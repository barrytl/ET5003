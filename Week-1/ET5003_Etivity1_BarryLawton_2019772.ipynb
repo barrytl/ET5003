{
  "nbformat": 4,
  "nbformat_minor": 0,
  "metadata": {
    "colab": {
      "name": "Etivity_1_template.ipynb",
      "provenance": []
    },
    "kernelspec": {
      "name": "python3",
      "display_name": "Python 3"
    },
    "language_info": {
      "name": "python"
    }
  },
  "cells": [
    {
      "cell_type": "markdown",
      "metadata": {
        "id": "jxK1_8f1dvrc"
      },
      "source": [
        "<div>\n",
        "<img src=\"https://drive.google.com/uc?export=view&id=1vK33e_EqaHgBHcbRV_m38hx6IkG0blK_\" width=\"350\"/>\n",
        "</div> \n",
        "\n",
        "#**Artificial Intelligence - MSc**\n",
        "ET5003 - MACHINE LEARNING APPLICATIONS \n",
        "\n",
        "###Instructor: Enrique Naredo\n",
        "###ET5003_Etivity-1"
      ]
    },
    {
      "cell_type": "code",
      "metadata": {
        "id": "LqXD_IwUQuBF",
        "cellView": "form"
      },
      "source": [
        "#@title Current Date\n",
        "Today = '' #@param {type:\"date\"}\n"
      ],
      "execution_count": 1,
      "outputs": []
    },
    {
      "cell_type": "code",
      "metadata": {
        "id": "uzDKau31OjVO",
        "cellView": "form"
      },
      "source": [
        "#@markdown ---\n",
        "#@markdown ### Enter your details here:\n",
        "Student_ID = \"20197772\" #@param {type:\"string\"}\n",
        "Student_full_name = \"Barry Lawton\" #@param {type:\"string\"}\n",
        "#@markdown ---"
      ],
      "execution_count": 2,
      "outputs": []
    },
    {
      "cell_type": "code",
      "metadata": {
        "id": "r39xGZckTpKx",
        "cellView": "form"
      },
      "source": [
        "#@title Notebook information\n",
        "Notebook_type = 'Etivity' #@param [\"Example\", \"Lab\", \"Practice\", \"Etivity\", \"Assignment\", \"Exam\"]\n",
        "Version = 'Draft' #@param [\"Draft\", \"Final\"] {type:\"raw\"}\n",
        "Submission = False #@param {type:\"boolean\"}"
      ],
      "execution_count": 3,
      "outputs": []
    },
    {
      "cell_type": "markdown",
      "metadata": {
        "id": "80m304lUefG4"
      },
      "source": [
        "## MNIST dataset"
      ]
    },
    {
      "cell_type": "markdown",
      "metadata": {
        "id": "Bs8mHGcidHSa"
      },
      "source": [
        "\n",
        "\n",
        "The MNIST database  is a dataset of handwritten digits that has been and is extensively used in machine learning. There are $10$ classes, each image is $28\\times28$ pixels and, therefore, each input is $x_i\\in\\mathbb{R}^{784}$. "
      ]
    },
    {
      "cell_type": "markdown",
      "metadata": {
        "id": "ailycCq5epj2"
      },
      "source": [
        "## Task"
      ]
    },
    {
      "cell_type": "markdown",
      "metadata": {
        "id": "a-yNAxhUemjM"
      },
      "source": [
        "You have to extend the code to manage any arbitrary number of classes, in other words you have to implement a general-recipe multinomial logistic classifier and Bayesian multinomial logistic classifier.\n",
        "\n",
        "You must then select  3 digits at random and perform  the following task. \n",
        "\n",
        "1. Your goal is to use Bayesian multinomial logistic regression (as in the road-sign notebook) to solve this classification problem. \n",
        "\n",
        "2. You can downsize the training dataset (e.g., 40% training and 60%testing) if the computation of the posterior takes too much time in your computer.\n",
        "\n",
        "3. Use the posterior uncertainty to detect the instances (digits) in the test set that are hard to classify and remove them from the test-set.\n",
        "\n",
        "4. Then you need to compute again the accuracy of the general-recipe logistic regression on the remaining (non-difficult) instances and comment on the result.\n",
        "\n",
        "5. In practice, the task is to use uncertainty estimation to detect the difficult instances in the test-set. This is equivalent to refuse to classify all high-uncertainty instances or, in other words, when we are uncertain we say \"I don't know\" and we do not return any class. In this way, you will learn how uncertainty can be used to make safer decisions, by detecting the instances that are difficult to classify.\n"
      ]
    },
    {
      "cell_type": "markdown",
      "metadata": {
        "id": "nMRKRTQZe5fW"
      },
      "source": [
        "## Libraries"
      ]
    },
    {
      "cell_type": "code",
      "metadata": {
        "id": "IxusAui7AX_f"
      },
      "source": [
        "# Suppressing Warnings:\n",
        "import warnings\n",
        "warnings.filterwarnings(\"ignore\")"
      ],
      "execution_count": 4,
      "outputs": []
    },
    {
      "cell_type": "code",
      "metadata": {
        "id": "MQOfGMQpdHSb"
      },
      "source": [
        "# Import libraries\n",
        "from sklearn.linear_model import LogisticRegression\n",
        "from sklearn.metrics import accuracy_score\n",
        "from sklearn.model_selection import train_test_split\n",
        "import scipy.optimize as optimize\n",
        "from scipy.special import erf\n",
        "import pandas as pd\n",
        "import numpy as np\n",
        "import seaborn as sns\n",
        "from tqdm import tqdm\n",
        "from skimage.io import imread, imshow\n",
        "import matplotlib.image as mpimg\n",
        "import matplotlib.pyplot as plt\n",
        "import matplotlib\n",
        "%matplotlib inline\n",
        "import arviz as az\n",
        "from scipy.io import loadmat\n",
        "import pymc3 as pm\n",
        "import random\n",
        "from IPython.display import HTML\n",
        "import pickle\n",
        "import theano as tt\n",
        "import cv2\n",
        "from sklearn.utils import shuffle\n",
        "from skimage.color import rgb2gray"
      ],
      "execution_count": 5,
      "outputs": []
    },
    {
      "cell_type": "code",
      "metadata": {
        "id": "P5-qMSjpAQ-9"
      },
      "source": [
        "# Setting a seed:\n",
        "np.random.seed(123)\n",
        "# This is create reproducible results, however can be changed or removed"
      ],
      "execution_count": 6,
      "outputs": []
    },
    {
      "cell_type": "markdown",
      "metadata": {
        "id": "r4hSuwkUfVQb"
      },
      "source": [
        "## Dataset"
      ]
    },
    {
      "cell_type": "markdown",
      "metadata": {
        "id": "w99Pc66YdHSd"
      },
      "source": [
        "### Loading the MNIST dataset"
      ]
    },
    {
      "cell_type": "code",
      "metadata": {
        "colab": {
          "base_uri": "https://localhost:8080/"
        },
        "id": "CYFWAbXVzynp",
        "outputId": "1488e31b-6edd-4864-de55-b795de17e7fe"
      },
      "source": [
        "from google.colab import drive\n",
        "drive.mount('/content/drive')"
      ],
      "execution_count": 7,
      "outputs": [
        {
          "output_type": "stream",
          "name": "stdout",
          "text": [
            "Drive already mounted at /content/drive; to attempt to forcibly remount, call drive.mount(\"/content/drive\", force_remount=True).\n"
          ]
        }
      ]
    },
    {
      "cell_type": "markdown",
      "metadata": {
        "id": "qLUC7LSo3lBC"
      },
      "source": [
        "The MNIST dataset has been uploaded to google drive, Colab conviently allows this to be mounted within the notebook for easy access.  "
      ]
    },
    {
      "cell_type": "code",
      "metadata": {
        "colab": {
          "base_uri": "https://localhost:8080/"
        },
        "id": "g4rCnS4vdHSd",
        "outputId": "cb4bf598-1f10-4b3a-a1f0-4aeca19e15a3"
      },
      "source": [
        "# Path, copy the path from your Drive\n",
        "\n",
        "Path = '/content/drive/My Drive/Data/'\n",
        "# MNIST Data\n",
        "train_data = Path + 'mnist_train.csv'\n",
        "test_data = Path + 'mnist_test.csv'\n",
        "\n",
        "# train data\n",
        "df_train = pd.read_csv(train_data)\n",
        "X_train = df_train.drop(\"label\",axis=1).values\n",
        "y_train = df_train.label.values\n",
        "print(\"Training dataset shape : \",X_train.shape)\n",
        "\n",
        "# test data\n",
        "df_test = pd.read_csv(test_data)\n",
        "X_test = df_test.drop(\"label\",axis=1).values\n",
        "y_test = df_test.label.values\n",
        "print(\"Test dataset shape : \",X_test.shape)"
      ],
      "execution_count": 8,
      "outputs": [
        {
          "output_type": "stream",
          "name": "stdout",
          "text": [
            "Training dataset shape :  (60000, 784)\n",
            "Test dataset shape :  (10000, 784)\n"
          ]
        }
      ]
    },
    {
      "cell_type": "markdown",
      "metadata": {
        "id": "Wgcji74_5Ssh"
      },
      "source": [
        "The training data consists of 60,000 examples, while the test data has 10,000 examples. Each example contains 784 pixels, which forms a 28 * 28 pixel image of a handwritten digit."
      ]
    },
    {
      "cell_type": "code",
      "metadata": {
        "id": "O2ubJ_WoAqBh",
        "colab": {
          "base_uri": "https://localhost:8080/"
        },
        "outputId": "bb8b82ba-77c4-4657-96eb-03a2057abc72"
      },
      "source": [
        "# Normalizing the Inputs:\n",
        "X_train = X_train/255\n",
        "X_test = X_test/255\n",
        "\n",
        "# Printing the new input range of values:\n",
        "minv = np.min(X_train)\n",
        "maxv = np.max(X_train)\n",
        "print(minv,maxv)"
      ],
      "execution_count": 9,
      "outputs": [
        {
          "output_type": "stream",
          "name": "stdout",
          "text": [
            "0.0 1.0\n"
          ]
        }
      ]
    },
    {
      "cell_type": "markdown",
      "metadata": {
        "id": "dxUP5Rw96IgB"
      },
      "source": [
        "As part of the preprocessing the dataset is normalized. Each pixel is denoted by a value between 0 and 255, where 0 corresponds to white and 255 corresponds to black.  \n",
        "To normalise, each value is divided by 255, so the pixels will now range between 0 and 1."
      ]
    },
    {
      "cell_type": "markdown",
      "metadata": {
        "id": "SR6HpkWndHSe"
      },
      "source": [
        "### Description of Data:"
      ]
    },
    {
      "cell_type": "code",
      "metadata": {
        "id": "sibN1Vv1dHSf",
        "colab": {
          "base_uri": "https://localhost:8080/"
        },
        "outputId": "005e4bb1-ca7d-4022-9842-dcf13eff0331"
      },
      "source": [
        "# Number of examples\n",
        "n_train =  len(X_train)\n",
        "n_test =  len(X_test)\n",
        "\n",
        "# Shape of an traffic sign image\n",
        "image_shape = X_train.shape[1]\n",
        "\n",
        "# unique classes/labels in the training dataset.\n",
        "alltotal = set(y_train)\n",
        "n_classes = len(alltotal)\n",
        "\n",
        "print(\"Number of Training examples =\", n_train)\n",
        "print(\"Number of Test examples =\", n_test)\n",
        "print(\"Image input shape =\", image_shape)\n",
        "print(\"Number of classes =\", n_classes)"
      ],
      "execution_count": 10,
      "outputs": [
        {
          "output_type": "stream",
          "name": "stdout",
          "text": [
            "Number of Training examples = 60000\n",
            "Number of Test examples = 10000\n",
            "Image input shape = 784\n",
            "Number of classes = 10\n"
          ]
        }
      ]
    },
    {
      "cell_type": "markdown",
      "metadata": {
        "id": "6HQDSvrRKZF6"
      },
      "source": [
        "### Class Distribution:"
      ]
    },
    {
      "cell_type": "code",
      "metadata": {
        "id": "XG8GdlpBKdCt",
        "colab": {
          "base_uri": "https://localhost:8080/",
          "height": 621
        },
        "outputId": "1a43dea3-5449-4b2e-cc71-9f8f895f1d0a"
      },
      "source": [
        "fig, ax = plt.subplots(figsize=(15,10) )\n",
        "ind = np.arange(n_classes)\n",
        "\n",
        "n, bins, patches = ax.hist(y_train, n_classes, edgecolor = 'black')\n",
        "ax.set_xlabel('Classes 0-9')\n",
        "ax.set_ylabel('Counts')\n",
        "ax.set_title(r'Histogram of Digit images')\n",
        "plt.show()"
      ],
      "execution_count": 11,
      "outputs": [
        {
          "output_type": "display_data",
          "data": {
            "image/png": "[encoded data removed]",
            "text/plain": [
              "<Figure size 1080x720 with 1 Axes>"
            ]
          },
          "metadata": {
            "needs_background": "light"
          }
        }
      ]
    },
    {
      "cell_type": "markdown",
      "metadata": {
        "id": "i7slWvhzUUpE"
      },
      "source": [
        "The histogram of the Digit images shows a similar frequency between different classes.     \n",
        "The digit 1 appears more frequently than the other classes, while 5 is less frequent that the other examples. Aside from these classes, the remaining classes are reasonably evenly distributed."
      ]
    },
    {
      "cell_type": "markdown",
      "metadata": {
        "id": "EyLWw3nsLCtk"
      },
      "source": [
        "## Downsampling\n",
        "\n",
        "The dataset will now be downsampled, 3 classes will be randomly selcted.      \n",
        "Note np.random.seed() function above will determine the results achieved and needs to be updated if different classes are desired."
      ]
    },
    {
      "cell_type": "markdown",
      "metadata": {
        "id": "2U1lFEwhLKBf"
      },
      "source": [
        "### Randomly selecting 3 of the 10 Digit Classes"
      ]
    },
    {
      "cell_type": "code",
      "metadata": {
        "id": "0EeRZZWdLRPT",
        "colab": {
          "base_uri": "https://localhost:8080/"
        },
        "outputId": "326bb321-e11c-42e9-e49a-b41444d1626a"
      },
      "source": [
        "# We select the number of Classes we want:\n",
        "n_classes = 3\n",
        "\n",
        "# Empty list to append the random digit classes we select:\n",
        "classes = []\n",
        "\n",
        "# We select 3 digits at random and make sure they are unique:\n",
        "while len(classes) < n_classes :\n",
        "    \n",
        "    # Randomly drawing a digit from 0-9:\n",
        "    num2choose = np.random.randint(0,10)\n",
        "\n",
        "    # Append the digit if it's not already in our list of classes:\n",
        "    if num2choose not in classes: \n",
        "        classes.append(num2choose)\n",
        "        \n",
        "        \n",
        "# Sorting the Classes smallest to largest    \n",
        "classes.sort()\n",
        "# print classes selected\n",
        "classes"
      ],
      "execution_count": 12,
      "outputs": [
        {
          "output_type": "execute_result",
          "data": {
            "text/plain": [
              "[1, 2, 6]"
            ]
          },
          "metadata": {},
          "execution_count": 12
        }
      ]
    },
    {
      "cell_type": "markdown",
      "metadata": {
        "id": "VQ1XFP8yB8eg"
      },
      "source": [
        "After randomly selecting 3 classes, then 500 instances are selected from each class, this not only downsamples the data but will also balance the data.\n",
        "As noted previously when looking at all the training data there was a slight inbalance between classes. "
      ]
    },
    {
      "cell_type": "code",
      "metadata": {
        "id": "2M8R5NqKMB_M"
      },
      "source": [
        "# The number of instances we'll keep for each of our 3 digits:\n",
        "inst_class = 500\n",
        "\n",
        "inputs = []\n",
        "labels = []\n",
        "\n",
        "# Loop to randomly sample the instances for each digit:\n",
        "for r in classes:\n",
        "    imgs = X_train[np.where(y_train==r)[0],:]\n",
        "    inputs.append(imgs[np.random.permutation(imgs.shape[0]),:][0:inst_class,:])\n",
        "    labels.append(np.ones(inst_class)*r)\n",
        "    \n",
        "# Shaping inputs and labels in the right format    \n",
        "X_train = np.vstack(inputs).astype(np.float64)\n",
        "y_train = np.hstack(labels)"
      ],
      "execution_count": 13,
      "outputs": []
    },
    {
      "cell_type": "markdown",
      "metadata": {
        "id": "_6-YHrQQMicy"
      },
      "source": [
        "New Classes Distribution"
      ]
    },
    {
      "cell_type": "code",
      "metadata": {
        "id": "RA300COaMxWm",
        "colab": {
          "base_uri": "https://localhost:8080/",
          "height": 458
        },
        "outputId": "158035af-e721-4121-d530-a99f80aebf7a"
      },
      "source": [
        "# new histogram of the data after downsampling\n",
        "fig, ax = plt.subplots(figsize = (10,7))\n",
        "ind = np.arange(n_classes)\n",
        "\n",
        "n, bins, patches = ax.hist(y_train,edgecolor= \"black\")\n",
        "ax.set_xlabel('Classes')\n",
        "ax.set_ylabel('Counts')\n",
        "ax.set_title(r'Histogram of Digit images after downsampling the data')\n",
        "plt.show()"
      ],
      "execution_count": 14,
      "outputs": [
        {
          "output_type": "display_data",
          "data": {
            "image/png": "[encoded data removed]",
            "text/plain": [
              "<Figure size 720x504 with 1 Axes>"
            ]
          },
          "metadata": {
            "needs_background": "light"
          }
        }
      ]
    },
    {
      "cell_type": "markdown",
      "metadata": {
        "id": "X9QovxPTGLvi"
      },
      "source": [
        "Next a fucntion to plot a sample of the data is created. This will plot a user defined amount of images."
      ]
    },
    {
      "cell_type": "code",
      "metadata": {
        "id": "eFgP4xugMvJm"
      },
      "source": [
        "# plot digits\n",
        "def plot_digits(instances, images_per_row=5, **options):\n",
        "    size = 28\n",
        "    images_per_row = min(len(instances), images_per_row)\n",
        "    images = [instance.reshape(size,size) for instance in instances]\n",
        "    n_rows = (len(instances) - 1) // images_per_row + 1\n",
        "    row_images = []\n",
        "    n_empty = n_rows * images_per_row - len(instances)\n",
        "    images.append(np.zeros((size, size * n_empty)))\n",
        "    for row in range(n_rows):\n",
        "        rimages = images[row * images_per_row : (row + 1) * images_per_row]\n",
        "        row_images.append(np.concatenate(rimages, axis=1))\n",
        "    image = np.concatenate(row_images, axis=0)\n",
        "    plt.imshow(image,  cmap='gist_yarg', **options)\n",
        "    plt.axis(\"off\")"
      ],
      "execution_count": 15,
      "outputs": []
    },
    {
      "cell_type": "code",
      "metadata": {
        "id": "zeEG-LGOM4fJ",
        "colab": {
          "base_uri": "https://localhost:8080/",
          "height": 316
        },
        "outputId": "a6dbf7cc-7621-4cb4-978f-096d907c8146"
      },
      "source": [
        "# Show a few instances from each Digit:\n",
        "plt.figure(figsize=(8,8))\n",
        "\n",
        "# Selecting a few label indices from each of the 3 classes to show:\n",
        "label_indices = np.random.choice(len(X_train), 15,replace = None)\n",
        "\n",
        "# Plotting 'original' image\n",
        "plot_digits(X_train[label_indices,:],images_per_row=5)\n",
        "plt.title(\"Original\", fontsize=14)\n",
        "plt.show()"
      ],
      "execution_count": 16,
      "outputs": [
        {
          "output_type": "display_data",
          "data": {
            "image/png": "[encoded data removed]",
            "text/plain": [
              "<Figure size 576x576 with 1 Axes>"
            ]
          },
          "metadata": {
            "needs_background": "light"
          }
        }
      ]
    },
    {
      "cell_type": "markdown",
      "metadata": {
        "id": "_GUD_PktIEan"
      },
      "source": [
        "This selection of digits look quite distintive. It should be possible to make a ML model which will accurately classify their class."
      ]
    },
    {
      "cell_type": "markdown",
      "metadata": {
        "id": "FsAOnOcNNG_V"
      },
      "source": [
        "###  Splitting the Training data into both Training and Validation Sets:\n",
        "\n",
        "- Although this is the Training set, we can still set aside some samples (for instance 20%) of the 1,500 instances we have for Model Validation purposes.\n",
        "\n",
        "\n",
        "- With that Validation Set, we can then select the amount of Uncertainty we are happy with from our Model to use out of sample on other unseen data.\n",
        "\n",
        "\n",
        "- We can then test out how well our decision performs on the Test Set that we put aside earlier."
      ]
    },
    {
      "cell_type": "code",
      "metadata": {
        "id": "YdsmyVAtPXNn"
      },
      "source": [
        "### Split the dataset in training and validation sets\n",
        "# choose the fraction of your validation data from the training set\n",
        "w = 0.20\n",
        "X_train, X_val, y_train, y_val = train_test_split(X_train, y_train, test_size=w, random_state=0)\n",
        " \n",
        "# Shuffling the training instaces around to randomize the order of inputs to the model:\n",
        "X_train, y_train = shuffle(X_train, y_train)"
      ],
      "execution_count": 17,
      "outputs": []
    },
    {
      "cell_type": "code",
      "metadata": {
        "id": "qXwJwP0iPxhi",
        "colab": {
          "base_uri": "https://localhost:8080/"
        },
        "outputId": "6d70f752-642a-4649-f81e-cfe07ff8c7eb"
      },
      "source": [
        "# print shape of your validation and training set\n",
        "print(\" The size of the training data : \", X_train.shape)\n",
        "print(\" The size of the validation data :\",X_val.shape)"
      ],
      "execution_count": 18,
      "outputs": [
        {
          "output_type": "stream",
          "name": "stdout",
          "text": [
            " The size of the training data :  (1200, 784)\n",
            " The size of the validation data : (300, 784)\n"
          ]
        }
      ]
    },
    {
      "cell_type": "markdown",
      "metadata": {
        "id": "rjUaqWTqQIcp"
      },
      "source": [
        "### General-Recipe ML\n",
        "\n",
        "The first model created will be a general-recipe multinomial logistic classifier to predict the class any image belongs to.\n",
        "This is created using SKLearn LogisticRegression() function."
      ]
    },
    {
      "cell_type": "code",
      "metadata": {
        "id": "QzgdivxfQNv5",
        "colab": {
          "base_uri": "https://localhost:8080/"
        },
        "outputId": "90adaa1b-3e0e-4f63-cc4c-7b52a0d09f28"
      },
      "source": [
        "# model\n",
        "model_log = LogisticRegression(random_state = 0, max_iter = 2000, C = 100, solver = 'lbfgs', multi_class = 'multinomial').fit(X_train, y_train)\n",
        "\n",
        "# Classification:\n",
        "y_pred_log = model_log.predict(X_val)\n",
        "y_pred_logi_prob = model_log.predict_proba(X_val)\n",
        "\n",
        "# Maybe taking the maximum probability \n",
        "# in any of the classes for each observation\n",
        "prob_classmax = np.max(y_pred_logi_prob,axis=1)\n",
        "\n",
        "# Computing the Accuracy:\n",
        "accuracy_score(y_pred_log, y_val)"
      ],
      "execution_count": 19,
      "outputs": [
        {
          "output_type": "execute_result",
          "data": {
            "text/plain": [
              "0.9633333333333334"
            ]
          },
          "metadata": {},
          "execution_count": 19
        }
      ]
    },
    {
      "cell_type": "code",
      "metadata": {
        "colab": {
          "base_uri": "https://localhost:8080/"
        },
        "id": "jCwQvzDJfBnX",
        "outputId": "c9739a33-c937-4287-b263-a654709e7ac1"
      },
      "source": [
        "#np.sort(prob_classmax)\n",
        "\n",
        "# The probability of general recipe multinomial logistic regression in the wrong instances\n",
        "prob_classmax[y_pred_log!=y_val]"
      ],
      "execution_count": 20,
      "outputs": [
        {
          "output_type": "execute_result",
          "data": {
            "text/plain": [
              "array([0.3941168 , 0.97076044, 0.99585391, 0.99828822, 0.72580727,\n",
              "       0.51704511, 0.99872638, 0.88563265, 0.99933057, 0.62929837,\n",
              "       0.95656926])"
            ]
          },
          "metadata": {},
          "execution_count": 20
        }
      ]
    },
    {
      "cell_type": "code",
      "metadata": {
        "id": "-q25wnBZh1i4",
        "colab": {
          "base_uri": "https://localhost:8080/"
        },
        "outputId": "29aff6eb-3406-4d9a-966e-00370597f583"
      },
      "source": [
        "# The total number of incorrect classifications \n",
        "print(\"Number of incorrect classifications :\" ,len(prob_classmax[y_pred_log!=y_val]))"
      ],
      "execution_count": 21,
      "outputs": [
        {
          "output_type": "stream",
          "name": "stdout",
          "text": [
            "Number of incorrect classifications : 11\n"
          ]
        }
      ]
    },
    {
      "cell_type": "code",
      "metadata": {
        "id": "_SDt_LUNiN3F"
      },
      "source": [
        "#np.array(y_pred_log)"
      ],
      "execution_count": 22,
      "outputs": []
    },
    {
      "cell_type": "markdown",
      "metadata": {
        "id": "2QzeSz9Egh3m"
      },
      "source": [
        "The general recipe multinomial logistic regression model achieves a high accuracy for these classes. "
      ]
    },
    {
      "cell_type": "markdown",
      "metadata": {
        "id": "3uQG6JsOQxH5"
      },
      "source": [
        "### Probabilistic Multinomial Logistic Regression:"
      ]
    },
    {
      "cell_type": "markdown",
      "metadata": {
        "id": "fBxKjbHBhOGn"
      },
      "source": [
        "This notebook will create a Bayesian multinomial logistic classifier to predict the classes for each digit.    \n",
        "This model will be created using pymc3 python package.\n"
      ]
    },
    {
      "cell_type": "markdown",
      "metadata": {
        "id": "irlmUNw7Q5YL"
      },
      "source": [
        "The Multinomial Logistic Regression has some parameters:\n",
        "\n",
        "- $\\alpha$, which is the intercept term:\n",
        "\n",
        "- $\\beta$, which is a vector of coefficients which give a weighting to the importance of each input feature:\n"
      ]
    },
    {
      "cell_type": "markdown",
      "metadata": {
        "id": "aOroY1QoP8DY"
      },
      "source": [
        "### Encoding the Class labels for the Probabilistic ML Model:\n",
        "\n",
        "To use pymc3 first need to encode the classes into binary labels. This is performed using the LabelBinarizer function from sklearn.\n",
        "\n",
        "This is an example:\n",
        "\n",
        "- **[1,0,0]** for first digit\n",
        "- **[0,1,0]** for second digit\n",
        "- **[0,0,1]** for third digit"
      ]
    },
    {
      "cell_type": "code",
      "metadata": {
        "id": "3fnYiD1CjlIq"
      },
      "source": [
        "import sklearn.preprocessing\n",
        "## We use LabelBinarizer to transfer classes into counts\n",
        "# neg_label=0, pos_label=1 \n",
        "y_2_bin = sklearn.preprocessing.LabelBinarizer().fit_transform(y_train.reshape(-1,1))\n",
        "nf = X_train.shape[1]\n",
        "# number of classes\n",
        "nc = len(classes)\n",
        "# floatX = float32\n",
        "floatX = tt.config.floatX\n",
        "\n",
        "init_b = np.random.randn(nf, nc-1).astype(floatX)\n",
        "init_a = np.random.randn(nc-1).astype(floatX)\n",
        "\n",
        "\n",
        "with pm.Model() as multi_logistic:\n",
        "    # Prior\n",
        "    β = pm.Normal('beta', 0, sigma=100, shape=(nf, nc-1), testval=init_b)\n",
        "    α = pm.Normal('alpha', 0, sigma=100, shape=(nc-1,), testval=init_a)\n",
        "    \n",
        "    # we need to consider nc-1 features because the model is not identifiable\n",
        "    # the softmax turns a vector into a probability that sums up to one\n",
        "    # therefore we add zeros to go back to dimension nc\n",
        "    # so that softmax returns a vector of dimension nc\n",
        "    β1  = tt.tensor.concatenate([np.zeros((nf,1)),β ],axis=1)\n",
        "    α1  = tt.tensor.concatenate([[0],α ],)\n",
        "    \n",
        "    # Likelihood\n",
        "    mu = pm.math.matrix_dot(X_train,β1) + α1\n",
        "    # It doesn't work if the problem is binary\n",
        "    p = tt.tensor.nnet.nnet.softmax(mu)\n",
        "    observed = pm.Multinomial('likelihood', p=p, n=1, observed=y_2_bin)\n"
      ],
      "execution_count": 23,
      "outputs": []
    },
    {
      "cell_type": "code",
      "metadata": {
        "id": "2MFH4gwlRhrB",
        "colab": {
          "base_uri": "https://localhost:8080/",
          "height": 74
        },
        "outputId": "e577167d-a029-41c8-a7de-d0fadba936a4"
      },
      "source": [
        "with multi_logistic:\n",
        "  approx = pm.fit(3000, method = 'advi')"
      ],
      "execution_count": 24,
      "outputs": [
        {
          "output_type": "stream",
          "name": "stderr",
          "text": [
            "WARNING (theano.tensor.blas): We did not find a dynamic library in the library_dir of the library we use for blas. If you use ATLAS, make sure to compile it with dynamics library.\n"
          ]
        },
        {
          "output_type": "display_data",
          "data": {
            "text/html": [
              "\n",
              "    <div>\n",
              "        <style>\n",
              "            /* Turns off some styling */\n",
              "            progress {\n",
              "                /* gets rid of default border in Firefox and Opera. */\n",
              "                border: none;\n",
              "                /* Needs to be in here for Safari polyfill so background images work as expected. */\n",
              "                background-size: auto;\n",
              "            }\n",
              "            .progress-bar-interrupted, .progress-bar-interrupted::-webkit-progress-bar {\n",
              "                background: #F44336;\n",
              "            }\n",
              "        </style>\n",
              "      <progress value='3000' class='' max='3000' style='width:300px; height:20px; vertical-align: middle;'></progress>\n",
              "      100.00% [3000/3000 00:15<00:00 Average Loss = 7,798.6]\n",
              "    </div>\n",
              "    "
            ],
            "text/plain": [
              "<IPython.core.display.HTML object>"
            ]
          },
          "metadata": {}
        },
        {
          "output_type": "stream",
          "name": "stderr",
          "text": [
            "Finished [100%]: Average Loss = 7,790\n"
          ]
        }
      ]
    },
    {
      "cell_type": "code",
      "metadata": {
        "id": "WNmJvYc4Rho7",
        "colab": {
          "base_uri": "https://localhost:8080/",
          "height": 295
        },
        "outputId": "e319ac72-b821-481c-f8b3-bb42e2c21631"
      },
      "source": [
        "plt.plot(approx.hist)\n",
        "plt.title(\"Loss Function\")\n",
        "plt.xlabel(\"Iterations\")\n",
        "plt.ylabel(\"Loss\")\n",
        "plt.show()"
      ],
      "execution_count": 25,
      "outputs": [
        {
          "output_type": "display_data",
          "data": {
            "image/png": "[encoded data removed]",
            "text/plain": [
              "<Figure size 432x288 with 1 Axes>"
            ]
          },
          "metadata": {
            "needs_background": "light"
          }
        }
      ]
    },
    {
      "cell_type": "markdown",
      "metadata": {
        "id": "nUxwihzLkxJ1"
      },
      "source": [
        "The likelihood model was fitted over 3000 iterations. It is of course possible to fit with more iterations but is more computationally expensive and time consuming.     \n",
        "The plot above shows how the loss changes with each iteration. Over the course of 3000 iterations the loss descends significantly. "
      ]
    },
    {
      "cell_type": "code",
      "metadata": {
        "id": "sXcGhgbckucO"
      },
      "source": [
        "dd = 300\n",
        "posterior = approx.sample(draws = dd)"
      ],
      "execution_count": 26,
      "outputs": []
    },
    {
      "cell_type": "code",
      "metadata": {
        "id": "BFAKARTikuUf",
        "colab": {
          "base_uri": "https://localhost:8080/",
          "height": 304
        },
        "outputId": "cafd3b86-b2a7-4f90-e8ce-f7c459e83118"
      },
      "source": [
        "## Now lets test the model, by validating it against an image in the test set\n",
        "\n",
        "from scipy.special import softmax\n",
        "\n",
        "# select an image in the test set\n",
        "#i = 10 \n",
        "i = random.randint(0,dd)\n",
        "\n",
        "# select a sample from the posterior\n",
        "#s = 100\n",
        "s = random.randint(0,dd)\n",
        "\n",
        "beta = np.hstack([np.zeros((nf,1)), posterior['beta'][s,:] ])\n",
        "alpha = np.hstack([[0] , posterior['alpha'][s,:] ])\n",
        "image = X_val[i,:].reshape(28,28)\n",
        "plt.figure(figsize=(3,3))\n",
        "plt.imshow(image, cmap = 'gray')\n",
        "np.set_printoptions(suppress= True)\n",
        "\n",
        "print(\"Test image #\" + str(i) )\n",
        "print(\"Posterior sample #\" + str(s) )\n",
        "print(\"True Class\", y_val[i] )\n",
        "print(\"Classes: \" + str(classes) )\n",
        "print(\"Estimated probability of being in each class = \" , softmax((np.array([X_val[i,:].dot(beta) + alpha])))[0,:] )"
      ],
      "execution_count": 27,
      "outputs": [
        {
          "output_type": "stream",
          "name": "stdout",
          "text": [
            "Test image #6\n",
            "Posterior sample #194\n",
            "True Class 2.0\n",
            "Classes: [1, 2, 6]\n",
            "Estimated probability of being in each class =  [0.00001114 0.12287693 0.87711194]\n"
          ]
        },
        {
          "output_type": "display_data",
          "data": {
            "image/png": "[encoded data removed]",
            "text/plain": [
              "<Figure size 216x216 with 1 Axes>"
            ]
          },
          "metadata": {
            "needs_background": "light"
          }
        }
      ]
    },
    {
      "cell_type": "code",
      "metadata": {
        "id": "XXh5GXJsRhmr"
      },
      "source": [
        "# Bayesian Prediction\n",
        "# calculate the class that has the highest posterior probability\n",
        "\n",
        "y_pred_Bayes = []\n",
        "\n",
        "for i in range(X_val.shape[0]):\n",
        "  val = np.zeros((1,len(classes)))\n",
        "\n",
        "  for s in range(posterior['beta'].shape[0]):\n",
        "    beta = np.hstack([np.zeros((nf,1)), posterior['beta'][s,:]])\n",
        "    alpha = np.hstack([[0], posterior['alpha'][s,:] ])\n",
        "    val = val + softmax((np.array([X_val[i,:].dot(beta) + alpha])))\n",
        "  \n",
        "  mean_probability = val/posterior['beta'].shape[0]\n",
        "  y_pred_Bayes.append( np.argmax(mean_probability))"
      ],
      "execution_count": 28,
      "outputs": []
    },
    {
      "cell_type": "code",
      "metadata": {
        "colab": {
          "base_uri": "https://localhost:8080/"
        },
        "id": "J8o4t_YRTvnL",
        "outputId": "725505b1-1057-4a89-9c98-95c5c3fbad57"
      },
      "source": [
        "#print(y_pred_Bayes)\n",
        "print(\"Accuracy = \", accuracy_score(np.array(classes)[y_pred_Bayes], y_val))"
      ],
      "execution_count": 29,
      "outputs": [
        {
          "output_type": "stream",
          "name": "stdout",
          "text": [
            "Accuracy =  0.93\n"
          ]
        }
      ]
    },
    {
      "cell_type": "markdown",
      "metadata": {
        "id": "8cJLdxuInj2e"
      },
      "source": [
        "When the model is tested against the validation set, it achieves a good accuracy, however it is noticably lower than the Multinomial Logistic Regression model."
      ]
    },
    {
      "cell_type": "markdown",
      "metadata": {
        "id": "Xbrgm60BY2i_"
      },
      "source": [
        "## Selecting difficult and easy instances to predict\n",
        "\n"
      ]
    },
    {
      "cell_type": "code",
      "metadata": {
        "id": "TtkgBRMJY9FE"
      },
      "source": [
        "y_predB = []\n",
        "\n",
        "for i in range(X_val.shape[0]):\n",
        "  val = []\n",
        "   \n",
        "  for s in range(posterior['beta'].shape[0]):\n",
        "    beta = np.hstack([np.zeros((nf,1)), posterior['beta'][s,:] ])\n",
        "    alpha = np.hstack([ [0], posterior['alpha'][s,:] ])\n",
        "    val.append(softmax((np.array([X_val[i,:].dot(beta) + alpha ])))[0,:])\n",
        "\n",
        "  # mean probability\n",
        "  valmean = np.mean(val, axis = 0)\n",
        "  # class with maximum mean probabilty\n",
        "  classmax = np.argmax(valmean)\n",
        "\n",
        "  #ranks\n",
        "  ranks = np.array(val.copy())\n",
        "  ranks = ranks *0 #init\n",
        "  column_max  = np.argmax(np.array(val), axis = 1)\n",
        "  ranks[np.arange(0, len(column_max)), column_max] = 1\n",
        "\n",
        "  y_predB.append( [classmax , valmean[classmax], np.std(ranks, axis = 0)[classmax]])\n",
        "\n",
        "y_predB = np.array(y_predB)  \n",
        "\n"
      ],
      "execution_count": 30,
      "outputs": []
    },
    {
      "cell_type": "code",
      "metadata": {
        "colab": {
          "base_uri": "https://localhost:8080/"
        },
        "id": "D4lzYnqV30-3",
        "outputId": "56b88462-2981-4acc-cf3e-9457d61754c6"
      },
      "source": [
        "# The prediction array\n",
        "mm = 10\n",
        "y_predB[0:mm,:]"
      ],
      "execution_count": 31,
      "outputs": [
        {
          "output_type": "execute_result",
          "data": {
            "text/plain": [
              "array([[0.        , 0.96863903, 0.1280191 ],\n",
              "       [0.        , 0.93891763, 0.21794495],\n",
              "       [2.        , 0.96076069, 0.17058722],\n",
              "       [0.        , 0.90315981, 0.28134597],\n",
              "       [2.        , 0.91963116, 0.26068286],\n",
              "       [2.        , 0.97069636, 0.17058722],\n",
              "       [1.        , 0.85273834, 0.35377331],\n",
              "       [0.        , 0.49924711, 0.5       ],\n",
              "       [0.        , 0.93876579, 0.21794495],\n",
              "       [2.        , 0.94842136, 0.21092389]])"
            ]
          },
          "metadata": {},
          "execution_count": 31
        }
      ]
    },
    {
      "cell_type": "code",
      "metadata": {
        "colab": {
          "base_uri": "https://localhost:8080/"
        },
        "id": "9Kwa-m-l3023",
        "outputId": "a56bb7ff-2cc3-4ec6-b358-7ea040aa394d"
      },
      "source": [
        "# sorting the prediction array in descending order\n",
        "difficult = np.argsort(-y_predB[:,2])\n",
        "y_predB[difficult[0:mm],:]"
      ],
      "execution_count": 32,
      "outputs": [
        {
          "output_type": "execute_result",
          "data": {
            "text/plain": [
              "array([[0.        , 0.49924711, 0.5       ],\n",
              "       [2.        , 0.5040694 , 0.49998889],\n",
              "       [2.        , 0.49239577, 0.49995555],\n",
              "       [0.        , 0.50208907, 0.49989999],\n",
              "       [2.        , 0.47226188, 0.49982219],\n",
              "       [0.        , 0.51254698, 0.49982219],\n",
              "       [0.        , 0.50758231, 0.49982219],\n",
              "       [1.        , 0.51410671, 0.49982219],\n",
              "       [2.        , 0.51607331, 0.49982219],\n",
              "       [1.        , 0.48180265, 0.49972215]])"
            ]
          },
          "metadata": {},
          "execution_count": 32
        }
      ]
    },
    {
      "cell_type": "code",
      "metadata": {
        "colab": {
          "base_uri": "https://localhost:8080/"
        },
        "id": "ZZ1h4I6H30uU",
        "outputId": "0a35f6f2-8e18-41b8-817b-73465fb5c660"
      },
      "source": [
        "# The Probability of general-recipe logistic regression in wrong instances\n",
        "prob_classmax[y_pred_log != y_val]"
      ],
      "execution_count": 33,
      "outputs": [
        {
          "output_type": "execute_result",
          "data": {
            "text/plain": [
              "array([0.3941168 , 0.97076044, 0.99585391, 0.99828822, 0.72580727,\n",
              "       0.51704511, 0.99872638, 0.88563265, 0.99933057, 0.62929837,\n",
              "       0.95656926])"
            ]
          },
          "metadata": {},
          "execution_count": 33
        }
      ]
    },
    {
      "cell_type": "code",
      "metadata": {
        "colab": {
          "base_uri": "https://localhost:8080/"
        },
        "id": "UdkY8cmVY8uZ",
        "outputId": "54941a2c-ca7f-4495-dd4e-cf5beed27faa"
      },
      "source": [
        "y_predB[y_pred_log != y_val,:]"
      ],
      "execution_count": 34,
      "outputs": [
        {
          "output_type": "execute_result",
          "data": {
            "text/plain": [
              "array([[0.        , 0.49924711, 0.5       ],\n",
              "       [1.        , 0.71392905, 0.45061686],\n",
              "       [1.        , 0.98970182, 0.08137704],\n",
              "       [1.        , 0.96426322, 0.17950549],\n",
              "       [0.        , 0.73450168, 0.42708313],\n",
              "       [2.        , 0.7816931 , 0.41197357],\n",
              "       [2.        , 0.99856767, 0.        ],\n",
              "       [1.        , 0.75017098, 0.42295258],\n",
              "       [0.        , 0.50208907, 0.49989999],\n",
              "       [1.        , 0.65314888, 0.47590849],\n",
              "       [1.        , 0.91248171, 0.26606181]])"
            ]
          },
          "metadata": {},
          "execution_count": 34
        }
      ]
    },
    {
      "cell_type": "code",
      "metadata": {
        "colab": {
          "base_uri": "https://localhost:8080/"
        },
        "id": "SYoJpOEy4-Ds",
        "outputId": "db4aaff5-6940-4e39-cddd-e035e14565b7"
      },
      "source": [
        "## Difficult & easy instances\n",
        "\n",
        "easy = np.argsort(y_predB[:,2])\n",
        "print(\"The accuracy in the easy instances =\", accuracy_score(y_pred_log[easy[0:100]], y_val[easy[0:100]]))\n",
        "\n",
        "difficult = np.argsort(-y_predB[:,2])\n",
        "print(\"The accuracy in the difficult instances =\", accuracy_score(y_pred_log[difficult[0:100]], y_val[difficult[0:100]]))\n"
      ],
      "execution_count": 35,
      "outputs": [
        {
          "output_type": "stream",
          "name": "stdout",
          "text": [
            "The accuracy in the easy instances = 0.98\n",
            "The accuracy in the difficult instances = 0.93\n"
          ]
        }
      ]
    },
    {
      "cell_type": "code",
      "metadata": {
        "colab": {
          "base_uri": "https://localhost:8080/",
          "height": 357
        },
        "id": "uwLQPGtw5xy8",
        "outputId": "4a172dd0-5ca6-4c49-d9cc-6776ca413857"
      },
      "source": [
        "# Lets show 10 random examples of easy images\n",
        "fig, axs = plt.subplots(2,5, figsize=(15,6))\n",
        "fig.subplots_adjust(hspace = 0.5, wspace= 0.005)\n",
        "axs = axs.ravel()\n",
        "\n",
        "for i in range(10):\n",
        "  index = easy[i]\n",
        "  image = X_val[index,:].reshape(28,28)\n",
        "  axs[i].axis('off')\n",
        "  axs[i].imshow(image, cmap =\"gray\")"
      ],
      "execution_count": 36,
      "outputs": [
        {
          "output_type": "display_data",
          "data": {
            "image/png": "[encoded data removed]",
            "text/plain": [
              "<Figure size 1080x432 with 10 Axes>"
            ]
          },
          "metadata": {
            "needs_background": "light"
          }
        }
      ]
    },
    {
      "cell_type": "code",
      "metadata": {
        "colab": {
          "base_uri": "https://localhost:8080/",
          "height": 357
        },
        "id": "3GJOJ5gR5xqx",
        "outputId": "c7d375dc-e362-485c-949e-8de8ddd06ac8"
      },
      "source": [
        "# Now lets show 10 random examples of difficult images\n",
        "fig, axs = plt.subplots(2,5, figsize=(15,6))\n",
        "fig.subplots_adjust(hspace = 0.5, wspace= 0.005)\n",
        "axs = axs.ravel()\n",
        "\n",
        "for i in range(10):\n",
        "  index = difficult[i]\n",
        "  image = X_val[index,:].reshape(28,28)\n",
        "  axs[i].axis('off')\n",
        "  axs[i].imshow(image, cmap =\"Greys_r\")"
      ],
      "execution_count": 37,
      "outputs": [
        {
          "output_type": "display_data",
          "data": {
            "image/png": "[encoded data removed]",
            "text/plain": [
              "<Figure size 1080x432 with 10 Axes>"
            ]
          },
          "metadata": {
            "needs_background": "light"
          }
        }
      ]
    },
    {
      "cell_type": "markdown",
      "metadata": {
        "id": "a_RxjMUHtljC"
      },
      "source": [
        "Clearly the difference between the easy to classifiy and the difficult to classify images is stark. The \"easy\" images are very clear to see while some the \"difficult\" ones are almost unreadable.  \n",
        "\n",
        "Now the \"hard\" to classify images will be removed from the training set.  Then  the accuracy of the general recipe logistic regression model of the remaining (non-difficult) instances will be computed.\n",
        "\n"
      ]
    },
    {
      "cell_type": "code",
      "metadata": {
        "id": "4sf1Tu3D0ue5"
      },
      "source": [
        "# I'll just retain instances which have a low standard deviation\n",
        "# Less than or equal to 0.1\n",
        "X_easy = X_val[y_predB[:,2]<=0.1]\n",
        "y_easy = y_val[y_predB[:,2]<=0.1]"
      ],
      "execution_count": 62,
      "outputs": []
    },
    {
      "cell_type": "code",
      "metadata": {
        "id": "rh3qQ2Gf5l4t",
        "outputId": "2fb26ded-380f-4555-edde-eba6276007bb",
        "colab": {
          "base_uri": "https://localhost:8080/"
        }
      },
      "source": [
        "y_pred_easy = model_log.predict(X_easy)\n",
        "y_pred_easy_prob = model_log.predict(X_easy)\n",
        "\n",
        "print(\"The size of the non-difficult validation test set\",len(X_easy))\n",
        "print(\"The accuracy of the General-recipe model with the difficult instances removed = \",accuracy_score(y_pred_easy, y_easy))\n",
        "\n",
        "print(\"The accuracy of the original dataset with the difficult instances included\",accuracy_score(y_pred_log, y_val))"
      ],
      "execution_count": 67,
      "outputs": [
        {
          "output_type": "stream",
          "name": "stdout",
          "text": [
            "The size of the non-difficult validation test set 82\n",
            "The accuracy of the General-recipe model with the difficult instances removed =  0.975609756097561\n",
            "The accuracy of the original dataset with the difficult instances included 0.9633333333333334\n"
          ]
        }
      ]
    },
    {
      "cell_type": "markdown",
      "metadata": {
        "id": "UzxOLsO-F_mB"
      },
      "source": [
        "The test validation dataset is significantly reduced, as difficult to classify images are removed. This images are not unpredictable but essentially deemed to uncertain to predict with the use of the Posterior uncertainty.\n",
        "\n",
        "The model's accuracy however increased when these \"difficult\" images were removed which is to be expected, as it now trying to predict the class of only \"easy\" to classify images. "
      ]
    },
    {
      "cell_type": "markdown",
      "metadata": {
        "id": "NcshsLOGRPrk"
      },
      "source": [
        "## Summary"
      ]
    },
    {
      "cell_type": "markdown",
      "metadata": {
        "id": "XTc4pYKGRR60"
      },
      "source": [
        "The etivity was completed entirely using Google Colab notebooks. I followed the examples shown in ET5003_traffic_sign.ipynb notebook as a guide.\n",
        "\n",
        "To start I downloaded the MNIST dataset from the shared drive for this course, although it is widely available online and can be accessed from http://yann.lecun.com/exdb/mnist/\n",
        "The file was then uploaded to my own Google Drive, which Colab conveniently allows to be mounted into the environmnet for easy access to data.\n",
        "\n",
        "The MNIST dataset consists of over 60,000 training images and 10,000 test images, which are reasonably well distributed across 10 classes.\n",
        "As part of the preprocessing for the data, first it was normalized and then downsampled. 3 classes were selected at random and only 500 instances of each class were retained. This allowed me to work with a balanced dataset.\n",
        "\n",
        "Then two separate approaches were taken to classify this data.    \n",
        "    - General-recipe multinomial logistic classifier     \n",
        "    - Bayesian multinomial logistic classifier\n",
        "\n",
        "\n",
        "The General-recipe multinomial logistic classifer was implemented using the LogisticRegression() fucntion from the sklearn package.     \n",
        "This model achieved an accuracy of 0.96333.\n",
        "\n",
        "The Bayesian multinomial logistic classifier was implemented using the pymc3 package.\n",
        "In comparison this model only achieved an accuracy of 0.93.\n",
        "\n",
        "However by using Bayesian model this allowed for Posterior uncertainty to detect instances from the dataset which were both \"easy\" and \"difficult\" to classify. I produced two separate plots which gave examples of both \"difficult\" and \"easy\" images.\n",
        "Using this knowledge allowed for an updated accuracy to be calculated on the general-recipe multinomial logistic classifier. All the difficult to classify images were removed from the test set and the model's accuracy was calculated using only the \"easy\" to classify images.\n",
        "This resulted in the General Logistic regression model being able to produce an accuracy of  0.9756. Also it gave us the knowledge of which iomages are too difficult and uncertain to predict, an insight which is only provided by the Bayesian multinomial logistic classifier.\n"
      ]
    },
    {
      "cell_type": "code",
      "metadata": {
        "id": "LvKTvQVwDFOa"
      },
      "source": [
        ""
      ],
      "execution_count": null,
      "outputs": []
    }
  ]
}