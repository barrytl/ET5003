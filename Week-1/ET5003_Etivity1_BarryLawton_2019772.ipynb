{
  "nbformat": 4,
  "nbformat_minor": 0,
  "metadata": {
    "colab": {
      "name": "Etivity_1_template.ipynb",
      "provenance": []
    },
    "kernelspec": {
      "name": "python3",
      "display_name": "Python 3"
    },
    "language_info": {
      "name": "python"
    }
  },
  "cells": [
    {
      "cell_type": "markdown",
      "metadata": {
        "id": "jxK1_8f1dvrc"
      },
      "source": [
        "<div>\n",
        "<img src=\"https://drive.google.com/uc?export=view&id=1vK33e_EqaHgBHcbRV_m38hx6IkG0blK_\" width=\"350\"/>\n",
        "</div> \n",
        "\n",
        "#**Artificial Intelligence - MSc**\n",
        "ET5003 - MACHINE LEARNING APPLICATIONS \n",
        "\n",
        "###Instructor: Enrique Naredo\n",
        "###ET5003_Etivity-1"
      ]
    },
    {
      "cell_type": "code",
      "metadata": {
        "id": "LqXD_IwUQuBF",
        "cellView": "form"
      },
      "source": [
        "#@title Current Date\n",
        "Today = '2021-09-18' #@param {type:\"date\"}\n"
      ],
      "execution_count": 1,
      "outputs": []
    },
    {
      "cell_type": "code",
      "metadata": {
        "id": "uzDKau31OjVO",
        "cellView": "form"
      },
      "source": [
        "#@markdown ---\n",
        "#@markdown ### Enter your details here:\n",
        "Student_ID = \"20197772\" #@param {type:\"string\"}\n",
        "Student_full_name = \"Barry Lawton\" #@param {type:\"string\"}\n",
        "#@markdown ---"
      ],
      "execution_count": null,
      "outputs": []
    },
    {
      "cell_type": "code",
      "metadata": {
        "id": "r39xGZckTpKx",
        "cellView": "form"
      },
      "source": [
        "#@title Notebook information\n",
        "Notebook_type = 'Practice' #@param [\"Example\", \"Lab\", \"Practice\", \"Etivity\", \"Assignment\", \"Exam\"]\n",
        "Version = 'Draft' #@param [\"Draft\", \"Final\"] {type:\"raw\"}\n",
        "Submission = False #@param {type:\"boolean\"}"
      ],
      "execution_count": null,
      "outputs": []
    },
    {
      "cell_type": "markdown",
      "metadata": {
        "id": "80m304lUefG4"
      },
      "source": [
        "## MNIST dataset"
      ]
    },
    {
      "cell_type": "markdown",
      "metadata": {
        "id": "Bs8mHGcidHSa"
      },
      "source": [
        "\n",
        "\n",
        "The MNIST database  is a dataset of handwritten digits that has been and is extensively used in machine learning. There are $10$ classes, each image is $28\\times28$ pixels and, therefore, each input is $x_i\\in\\mathbb{R}^{784}$. "
      ]
    },
    {
      "cell_type": "markdown",
      "metadata": {
        "id": "ailycCq5epj2"
      },
      "source": [
        "## Task"
      ]
    },
    {
      "cell_type": "markdown",
      "metadata": {
        "id": "a-yNAxhUemjM"
      },
      "source": [
        "You have to extend the code to manage any arbitrary number of classes, in other words you have to implement a general-recipe multinomial logistic classifier and Bayesian multinomial logistic classifier.\n",
        "\n",
        "You must then select  3 digits at random and perform  the following task. \n",
        "\n",
        "1. Your goal is to use Bayesian multinomial logistic regression (as in the road-sign notebook) to solve this classification problem. \n",
        "\n",
        "2. You can downsize the training dataset (e.g., 40% training and 60%testing) if the computation of the posterior takes too much time in your computer.\n",
        "\n",
        "3. Use the posterior uncertainty to detect the instances (digits) in the test set that are hard to classify and remove them from the test-set.\n",
        "\n",
        "4. Then you need to compute again the accuracy of the general-recipe logistic regression on the remaining (non-difficult) instances and comment on the result.\n",
        "\n",
        "5. In practice, the task is to use uncertainty estimation to detect the difficult instances in the test-set. This is equivalent to refuse to classify all high-uncertainty instances or, in other words, when we are uncertain we say \"I don't know\" and we do not return any class. In this way, you will learn how uncertainty can be used to make safer decisions, by detecting the instances that are difficult to classify.\n"
      ]
    },
    {
      "cell_type": "markdown",
      "metadata": {
        "id": "nMRKRTQZe5fW"
      },
      "source": [
        "## Libraries"
      ]
    },
    {
      "cell_type": "code",
      "metadata": {
        "id": "IxusAui7AX_f"
      },
      "source": [
        "# Suppressing Warnings:\n",
        "import warnings\n",
        "warnings.filterwarnings(\"ignore\")"
      ],
      "execution_count": 2,
      "outputs": []
    },
    {
      "cell_type": "code",
      "metadata": {
        "id": "MQOfGMQpdHSb"
      },
      "source": [
        "# Import libraries\n",
        "from sklearn.linear_model import LogisticRegression\n",
        "from sklearn.metrics import accuracy_score\n",
        "from sklearn.model_selection import train_test_split\n",
        "import scipy.optimize as optimize\n",
        "from scipy.special import erf\n",
        "import pandas as pd\n",
        "import numpy as np\n",
        "import seaborn as sns\n",
        "from tqdm import tqdm\n",
        "from skimage.io import imread, imshow\n",
        "import matplotlib.image as mpimg\n",
        "import matplotlib.pyplot as plt\n",
        "import matplotlib\n",
        "%matplotlib inline\n",
        "import arviz as az\n",
        "from scipy.io import loadmat\n",
        "import pymc3 as pm\n",
        "import random\n",
        "from IPython.display import HTML\n",
        "import pickle\n",
        "import theano as tt\n",
        "import cv2\n",
        "from sklearn.utils import shuffle\n",
        "from skimage.color import rgb2gray"
      ],
      "execution_count": 3,
      "outputs": []
    },
    {
      "cell_type": "code",
      "metadata": {
        "id": "P5-qMSjpAQ-9"
      },
      "source": [
        "# Setting a seed:\n",
        "np.random.seed(123)"
      ],
      "execution_count": 4,
      "outputs": []
    },
    {
      "cell_type": "markdown",
      "metadata": {
        "id": "r4hSuwkUfVQb"
      },
      "source": [
        "## Dataset"
      ]
    },
    {
      "cell_type": "markdown",
      "metadata": {
        "id": "w99Pc66YdHSd"
      },
      "source": [
        "### Loading the MNIST dataset"
      ]
    },
    {
      "cell_type": "code",
      "metadata": {
        "colab": {
          "base_uri": "https://localhost:8080/"
        },
        "id": "CYFWAbXVzynp",
        "outputId": "93efacc7-d941-4965-a663-6b0a369f057b"
      },
      "source": [
        "from google.colab import drive\n",
        "drive.mount('/content/drive')"
      ],
      "execution_count": 5,
      "outputs": [
        {
          "output_type": "stream",
          "name": "stdout",
          "text": [
            "Mounted at /content/drive\n"
          ]
        }
      ]
    },
    {
      "cell_type": "code",
      "metadata": {
        "colab": {
          "base_uri": "https://localhost:8080/"
        },
        "id": "g4rCnS4vdHSd",
        "outputId": "9e285445-cb15-423a-8706-a9b17f60f6aa"
      },
      "source": [
        "# Path, copy the path from your Drive\n",
        "#Path = '/content/drive/MyDrive/Colab Notebooks/Enrique/Data/'\n",
        "Path = '/content/drive/My Drive/Data/'\n",
        "# MNIST Data\n",
        "train_data = Path + 'mnist_train.csv'\n",
        "test_data = Path + 'mnist_test.csv'\n",
        "\n",
        "# train data\n",
        "df_train = pd.read_csv(train_data)\n",
        "X_train = df_train.drop(\"label\",axis=1).values\n",
        "y_train = df_train.label.values\n",
        "print(X_train.shape)\n",
        "\n",
        "# test data\n",
        "df_test = pd.read_csv(test_data)\n",
        "X_test = df_test.drop(\"label\",axis=1).values\n",
        "y_test = df_test.label.values\n",
        "print(X_test.shape)"
      ],
      "execution_count": 47,
      "outputs": [
        {
          "output_type": "stream",
          "name": "stdout",
          "text": [
            "(60000, 784)\n",
            "(10000, 784)\n"
          ]
        }
      ]
    },
    {
      "cell_type": "code",
      "metadata": {
        "id": "O2ubJ_WoAqBh",
        "colab": {
          "base_uri": "https://localhost:8080/"
        },
        "outputId": "c13ac6a1-4b4d-43d6-e02f-a793072f5016"
      },
      "source": [
        "# Normalizing the Inputs:\n",
        "X_train = X_train/255\n",
        "X_test = X_test/255\n",
        "\n",
        "# Printing the new input range of values:\n",
        "minv = np.min(X_train)\n",
        "maxv = np.max(X_train)\n",
        "print(minv,maxv)"
      ],
      "execution_count": 48,
      "outputs": [
        {
          "output_type": "stream",
          "name": "stdout",
          "text": [
            "0.0 1.0\n"
          ]
        }
      ]
    },
    {
      "cell_type": "markdown",
      "metadata": {
        "id": "SR6HpkWndHSe"
      },
      "source": [
        "### Description of Data:"
      ]
    },
    {
      "cell_type": "code",
      "metadata": {
        "id": "sibN1Vv1dHSf",
        "colab": {
          "base_uri": "https://localhost:8080/"
        },
        "outputId": "ed925146-0739-40b2-e011-30b22de70d2d"
      },
      "source": [
        "# Number of examples\n",
        "n_train =  len(X_train)\n",
        "n_test =  len(X_test)\n",
        "\n",
        "# Shape of an traffic sign image\n",
        "image_shape = X_train.shape[1]\n",
        "\n",
        "# unique classes/labels in the training dataset.\n",
        "alltotal = set(y_train)\n",
        "n_classes = len(alltotal)\n",
        "\n",
        "print(\"Number of Training examples =\", n_train)\n",
        "print(\"Number of Test examples =\", n_test)\n",
        "print(\"Image input shape =\", image_shape)\n",
        "print(\"Number of classes =\", n_classes)"
      ],
      "execution_count": 49,
      "outputs": [
        {
          "output_type": "stream",
          "name": "stdout",
          "text": [
            "Number of Training examples = 60000\n",
            "Number of Test examples = 10000\n",
            "Image input shape = 784\n",
            "Number of classes = 10\n"
          ]
        }
      ]
    },
    {
      "cell_type": "markdown",
      "metadata": {
        "id": "6HQDSvrRKZF6"
      },
      "source": [
        "### Class Distribution:"
      ]
    },
    {
      "cell_type": "code",
      "metadata": {
        "id": "XG8GdlpBKdCt",
        "colab": {
          "base_uri": "https://localhost:8080/",
          "height": 295
        },
        "outputId": "4094508a-8b89-4dd6-c472-ef64ce0ee1cf"
      },
      "source": [
        "fig, ax = plt.subplots()\n",
        "ind = np.arange(n_classes)\n",
        "\n",
        "n, bins, patches = ax.hist(y_train, n_classes)\n",
        "ax.set_xlabel('classes')\n",
        "ax.set_ylabel('counts')\n",
        "ax.set_title(r'Histogram of Digit images')\n",
        "plt.show()"
      ],
      "execution_count": 50,
      "outputs": [
        {
          "output_type": "display_data",
          "data": {
            "image/png": "[encoded data removed]",
            "text/plain": [
              "<Figure size 432x288 with 1 Axes>"
            ]
          },
          "metadata": {
            "needs_background": "light"
          }
        }
      ]
    },
    {
      "cell_type": "markdown",
      "metadata": {
        "id": "i7slWvhzUUpE"
      },
      "source": [
        "The histogram of the Digit images shows a similar frequency between different classes.     \n",
        "The dataset is evenly distributed and balanced."
      ]
    },
    {
      "cell_type": "markdown",
      "metadata": {
        "id": "EyLWw3nsLCtk"
      },
      "source": [
        "## Downsampling"
      ]
    },
    {
      "cell_type": "markdown",
      "metadata": {
        "id": "2U1lFEwhLKBf"
      },
      "source": [
        "### Randomly selecting 3 of the 10 Digit Classes"
      ]
    },
    {
      "cell_type": "code",
      "metadata": {
        "id": "0EeRZZWdLRPT",
        "colab": {
          "base_uri": "https://localhost:8080/"
        },
        "outputId": "263983b7-e43e-4c59-a977-b4208ad64b5c"
      },
      "source": [
        "# We select the number of Classes we want:\n",
        "n_classes = 3\n",
        "\n",
        "# Empty list to append the random digit classes we select:\n",
        "classes = []\n",
        "\n",
        "# We select 3 digits at random and make sure they are unique:\n",
        "while len(classes) < 3 :\n",
        "    \n",
        "    # Randomly drawing a digit from 0-9:\n",
        "    num2choose = np.random.randint(0,10)\n",
        "\n",
        "    # Append the digit if it's not already in our list of classes:\n",
        "    if num2choose not in classes: \n",
        "        classes.append(num2choose)\n",
        "        \n",
        "        \n",
        "# Sorting the Classes smallest to largest    \n",
        "classes.sort()\n",
        "# print classes selected\n",
        "classes"
      ],
      "execution_count": 51,
      "outputs": [
        {
          "output_type": "execute_result",
          "data": {
            "text/plain": [
              "[3, 6, 8]"
            ]
          },
          "metadata": {},
          "execution_count": 51
        }
      ]
    },
    {
      "cell_type": "code",
      "metadata": {
        "id": "2M8R5NqKMB_M"
      },
      "source": [
        "# The number of instances we'll keep for each of our 3 digits:\n",
        "inst_class = 500\n",
        "\n",
        "inputs = []\n",
        "labels = []\n",
        "\n",
        "# Loop to randomly sample the instances for each digit:\n",
        "for r in classes:\n",
        "    imgs = X_train[np.where(y_train==r)[0],:]\n",
        "    inputs.append(imgs[np.random.permutation(imgs.shape[0]),:][0:inst_class,:])\n",
        "    labels.append(np.ones(inst_class)*r)\n",
        "    \n",
        "# Shaping inputs and labels in the right format    \n",
        "X_train = np.vstack(inputs).astype(np.float64)\n",
        "y_train = np.hstack(labels)"
      ],
      "execution_count": 52,
      "outputs": []
    },
    {
      "cell_type": "markdown",
      "metadata": {
        "id": "_6-YHrQQMicy"
      },
      "source": [
        "New Classes Distribution"
      ]
    },
    {
      "cell_type": "code",
      "metadata": {
        "colab": {
          "base_uri": "https://localhost:8080/"
        },
        "id": "m6sUyZBtFLSt",
        "outputId": "4a8c4924-f405-4c8f-f503-397daae99a8e"
      },
      "source": [
        "n_classes"
      ],
      "execution_count": 53,
      "outputs": [
        {
          "output_type": "execute_result",
          "data": {
            "text/plain": [
              "3"
            ]
          },
          "metadata": {},
          "execution_count": 53
        }
      ]
    },
    {
      "cell_type": "code",
      "metadata": {
        "id": "RA300COaMxWm",
        "colab": {
          "base_uri": "https://localhost:8080/",
          "height": 295
        },
        "outputId": "ac58fd91-29cd-49c0-9c12-9bfb87826e8a"
      },
      "source": [
        "# new histogram\n",
        "fig, ax = plt.subplots()\n",
        "ind = np.arange(n_classes)\n",
        "\n",
        "n, bins, patches = ax.hist(y_train, n_classes)\n",
        "ax.set_xlabel('classes')\n",
        "ax.set_ylabel('counts')\n",
        "ax.set_title(r'Histogram of Digit images')\n",
        "plt.show()"
      ],
      "execution_count": 54,
      "outputs": [
        {
          "output_type": "display_data",
          "data": {
            "image/png": "[encoded data removed]",
            "text/plain": [
              "<Figure size 432x288 with 1 Axes>"
            ]
          },
          "metadata": {
            "needs_background": "light"
          }
        }
      ]
    },
    {
      "cell_type": "code",
      "metadata": {
        "id": "eFgP4xugMvJm"
      },
      "source": [
        "# plot digits\n",
        "def plot_digits(instances, images_per_row=5, **options):\n",
        "    size = 28\n",
        "    images_per_row = min(len(instances), images_per_row)\n",
        "    images = [instance.reshape(size,size) for instance in instances]\n",
        "    n_rows = (len(instances) - 1) // images_per_row + 1\n",
        "    row_images = []\n",
        "    n_empty = n_rows * images_per_row - len(instances)\n",
        "    images.append(np.zeros((size, size * n_empty)))\n",
        "    for row in range(n_rows):\n",
        "        rimages = images[row * images_per_row : (row + 1) * images_per_row]\n",
        "        row_images.append(np.concatenate(rimages, axis=1))\n",
        "    image = np.concatenate(row_images, axis=0)\n",
        "    plt.imshow(image,  cmap='gist_yarg', **options)\n",
        "    plt.axis(\"off\")"
      ],
      "execution_count": 55,
      "outputs": []
    },
    {
      "cell_type": "code",
      "metadata": {
        "id": "zeEG-LGOM4fJ",
        "colab": {
          "base_uri": "https://localhost:8080/",
          "height": 116
        },
        "outputId": "450331f9-fa97-4548-9828-a892aa6e97e2"
      },
      "source": [
        "# Show a few instances from each Digit:\n",
        "plt.figure(figsize=(8,8))\n",
        "\n",
        "# Selecting a few label indices from each of the 3 classes to show:\n",
        "label_indices = np.random.choice(len(X_train), 9,replace = None)\n",
        "\n",
        "# Plotting 'original' image\n",
        "plot_digits(X_train[label_indices,:],images_per_row=9)\n",
        "plt.title(\"Original\", fontsize=14)"
      ],
      "execution_count": 56,
      "outputs": [
        {
          "output_type": "execute_result",
          "data": {
            "text/plain": [
              "Text(0.5, 1.0, 'Original')"
            ]
          },
          "metadata": {},
          "execution_count": 56
        },
        {
          "output_type": "display_data",
          "data": {
            "image/png": "[encoded data removed]",
            "text/plain": [
              "<Figure size 576x576 with 1 Axes>"
            ]
          },
          "metadata": {
            "needs_background": "light"
          }
        }
      ]
    },
    {
      "cell_type": "markdown",
      "metadata": {
        "id": "FsAOnOcNNG_V"
      },
      "source": [
        "###  Splitting the Training data into both Training and Validation Sets:\n",
        "\n",
        "- Although this is the Training set, we can still set aside some samples (for instance 20%) of the 1,500 instances we have for Model Validation purposes.\n",
        "\n",
        "\n",
        "- With that Validation Set, we can then select the amount of Uncertainty we are happy with from our Model to use out of sample on other unseen data.\n",
        "\n",
        "\n",
        "- We can then test out how well our decision performs on the Test Set that we put aside earlier."
      ]
    },
    {
      "cell_type": "code",
      "metadata": {
        "id": "YdsmyVAtPXNn"
      },
      "source": [
        "### Split tha dataset in training and validation sets\n",
        "# choose the fraction of your validation data from the training set\n",
        "w = 0.20\n",
        "X_train, X_val, y_train, y_val = train_test_split(X_train, y_train, test_size=w, random_state=0)\n",
        " \n",
        "# Shuffling the training instaces around to randomize the order of inputs to the model:\n",
        "X_train, y_train = shuffle(X_train, y_train)"
      ],
      "execution_count": 57,
      "outputs": []
    },
    {
      "cell_type": "code",
      "metadata": {
        "id": "qXwJwP0iPxhi",
        "colab": {
          "base_uri": "https://localhost:8080/"
        },
        "outputId": "dcf20c86-d352-4717-95a5-3fa071008e5b"
      },
      "source": [
        "# print shape of your validation and training set\n",
        "print(X_train.shape)\n",
        "print(X_val.shape)\n",
        "\n"
      ],
      "execution_count": 58,
      "outputs": [
        {
          "output_type": "stream",
          "name": "stdout",
          "text": [
            "(1200, 784)\n",
            "(300, 784)\n"
          ]
        }
      ]
    },
    {
      "cell_type": "markdown",
      "metadata": {
        "id": "aOroY1QoP8DY"
      },
      "source": [
        "### Encoding the Class labels for the Probabilistic ML Model:\n",
        "\n",
        "This is an example:\n",
        "\n",
        "- **[1,0,0]** for first digit\n",
        "- **[0,1,0]** for second digit\n",
        "- **[0,0,1]** for third digit"
      ]
    },
    {
      "cell_type": "markdown",
      "metadata": {
        "id": "rjUaqWTqQIcp"
      },
      "source": [
        "### General-Recipe ML"
      ]
    },
    {
      "cell_type": "code",
      "metadata": {
        "id": "QzgdivxfQNv5",
        "colab": {
          "base_uri": "https://localhost:8080/"
        },
        "outputId": "34a3bc49-b971-4608-fbef-bdd357f53ce1"
      },
      "source": [
        "# model\n",
        "model_log = LogisticRegression(random_state = 0, max_iter = 2000, C = 100, solver = 'lbfgs', multi_class = 'multinomial').fit(X_train, y_train)\n",
        "\n",
        "# Classification:\n",
        "y_pred_log = model_log.predict(X_val)\n",
        "y_pred_logi_prob = model_log.predict_proba(X_val)\n",
        "\n",
        "# Maybe taking the maximum probability \n",
        "# in any of the classes for each observation\n",
        "prob_classmax = np.max(y_pred_logi_prob,axis=1)\n",
        "\n",
        "# Computing the Accuracy:\n",
        "accuracy_score(y_pred_log, y_val)"
      ],
      "execution_count": 59,
      "outputs": [
        {
          "output_type": "execute_result",
          "data": {
            "text/plain": [
              "0.96"
            ]
          },
          "metadata": {},
          "execution_count": 59
        }
      ]
    },
    {
      "cell_type": "code",
      "metadata": {
        "id": "osysYZIcg-C9",
        "colab": {
          "base_uri": "https://localhost:8080/"
        },
        "outputId": "35928fcd-ed65-4ca4-ba80-91926c20b39b"
      },
      "source": [
        "np.sort(prob_classmax)"
      ],
      "execution_count": 60,
      "outputs": [
        {
          "output_type": "execute_result",
          "data": {
            "text/plain": [
              "array([0.55154096, 0.58030366, 0.64777812, 0.67440182, 0.7810973 ,\n",
              "       0.82303785, 0.88229192, 0.91448876, 0.9247083 , 0.92690829,\n",
              "       0.92898322, 0.92948636, 0.95537828, 0.95608471, 0.95639031,\n",
              "       0.95769315, 0.96396183, 0.96660818, 0.97063518, 0.97392653,\n",
              "       0.97852567, 0.98273656, 0.98330224, 0.9851998 , 0.99001526,\n",
              "       0.99096405, 0.99252915, 0.99287251, 0.99512071, 0.99518835,\n",
              "       0.99538364, 0.99653266, 0.9969459 , 0.99723832, 0.99794497,\n",
              "       0.99803103, 0.99820966, 0.99825818, 0.99853777, 0.99867713,\n",
              "       0.99876292, 0.99893751, 0.99920111, 0.99938145, 0.99939121,\n",
              "       0.99948884, 0.99953425, 0.99955756, 0.99958335, 0.99964728,\n",
              "       0.9996624 , 0.99968832, 0.99975773, 0.99976206, 0.99980188,\n",
              "       0.99980554, 0.9998095 , 0.99983872, 0.99986447, 0.99986934,\n",
              "       0.99989538, 0.99990929, 0.99991274, 0.99992268, 0.99993527,\n",
              "       0.99994444, 0.99995149, 0.99995602, 0.99996022, 0.99996213,\n",
              "       0.9999646 , 0.99997023, 0.99997436, 0.99997578, 0.99997961,\n",
              "       0.9999818 , 0.99998379, 0.99998382, 0.99998573, 0.99998625,\n",
              "       0.99998677, 0.9999886 , 0.99998936, 0.99998997, 0.9999937 ,\n",
              "       0.99999383, 0.99999437, 0.99999439, 0.99999454, 0.99999607,\n",
              "       0.99999616, 0.99999623, 0.99999623, 0.99999667, 0.99999681,\n",
              "       0.99999701, 0.99999733, 0.99999734, 0.99999736, 0.99999779,\n",
              "       0.99999795, 0.99999814, 0.99999816, 0.99999841, 0.99999854,\n",
              "       0.99999866, 0.99999867, 0.99999867, 0.9999989 , 0.99999892,\n",
              "       0.99999895, 0.99999901, 0.99999904, 0.99999905, 0.99999906,\n",
              "       0.99999922, 0.99999929, 0.99999929, 0.99999932, 0.9999994 ,\n",
              "       0.9999994 , 0.9999995 , 0.99999957, 0.99999961, 0.99999961,\n",
              "       0.99999962, 0.99999964, 0.99999964, 0.99999965, 0.99999966,\n",
              "       0.99999967, 0.9999997 , 0.99999971, 0.99999972, 0.99999972,\n",
              "       0.99999973, 0.99999973, 0.99999975, 0.99999975, 0.99999976,\n",
              "       0.99999978, 0.9999998 , 0.99999982, 0.99999982, 0.99999983,\n",
              "       0.99999983, 0.99999983, 0.99999984, 0.99999984, 0.99999985,\n",
              "       0.99999985, 0.99999985, 0.99999987, 0.99999988, 0.99999988,\n",
              "       0.99999988, 0.99999989, 0.99999989, 0.99999991, 0.99999992,\n",
              "       0.99999993, 0.99999994, 0.99999994, 0.99999994, 0.99999994,\n",
              "       0.99999994, 0.99999995, 0.99999995, 0.99999995, 0.99999995,\n",
              "       0.99999995, 0.99999995, 0.99999996, 0.99999996, 0.99999996,\n",
              "       0.99999996, 0.99999996, 0.99999997, 0.99999997, 0.99999997,\n",
              "       0.99999997, 0.99999997, 0.99999997, 0.99999997, 0.99999997,\n",
              "       0.99999997, 0.99999998, 0.99999998, 0.99999998, 0.99999998,\n",
              "       0.99999998, 0.99999998, 0.99999998, 0.99999998, 0.99999999,\n",
              "       0.99999999, 0.99999999, 0.99999999, 0.99999999, 0.99999999,\n",
              "       0.99999999, 0.99999999, 0.99999999, 0.99999999, 0.99999999,\n",
              "       0.99999999, 1.        , 1.        , 1.        , 1.        ,\n",
              "       1.        , 1.        , 1.        , 1.        , 1.        ,\n",
              "       1.        , 1.        , 1.        , 1.        , 1.        ,\n",
              "       1.        , 1.        , 1.        , 1.        , 1.        ,\n",
              "       1.        , 1.        , 1.        , 1.        , 1.        ,\n",
              "       1.        , 1.        , 1.        , 1.        , 1.        ,\n",
              "       1.        , 1.        , 1.        , 1.        , 1.        ,\n",
              "       1.        , 1.        , 1.        , 1.        , 1.        ,\n",
              "       1.        , 1.        , 1.        , 1.        , 1.        ,\n",
              "       1.        , 1.        , 1.        , 1.        , 1.        ,\n",
              "       1.        , 1.        , 1.        , 1.        , 1.        ,\n",
              "       1.        , 1.        , 1.        , 1.        , 1.        ,\n",
              "       1.        , 1.        , 1.        , 1.        , 1.        ,\n",
              "       1.        , 1.        , 1.        , 1.        , 1.        ,\n",
              "       1.        , 1.        , 1.        , 1.        , 1.        ,\n",
              "       1.        , 1.        , 1.        , 1.        , 1.        ,\n",
              "       1.        , 1.        , 1.        , 1.        , 1.        ,\n",
              "       1.        , 1.        , 1.        , 1.        , 1.        ,\n",
              "       1.        , 1.        , 1.        , 1.        , 1.        ])"
            ]
          },
          "metadata": {},
          "execution_count": 60
        }
      ]
    },
    {
      "cell_type": "code",
      "metadata": {
        "id": "-q25wnBZh1i4",
        "colab": {
          "base_uri": "https://localhost:8080/"
        },
        "outputId": "82a032d7-49db-40ad-a883-a9f7c5393660"
      },
      "source": [
        "# Probability of general recipe logistics regression in the wrong instances\n",
        "prob_classmax[y_pred_log!=y_val]"
      ],
      "execution_count": 61,
      "outputs": [
        {
          "output_type": "execute_result",
          "data": {
            "text/plain": [
              "array([0.95537828, 0.99989538, 0.99986447, 0.95639031, 0.9998095 ,\n",
              "       0.99975773, 0.99997023, 0.99794497, 0.82303785, 0.96396183,\n",
              "       0.99287251, 0.97392653])"
            ]
          },
          "metadata": {},
          "execution_count": 61
        }
      ]
    },
    {
      "cell_type": "code",
      "metadata": {
        "id": "_SDt_LUNiN3F",
        "colab": {
          "base_uri": "https://localhost:8080/"
        },
        "outputId": "c5a101aa-547e-40ac-d9df-c652528aec3a"
      },
      "source": [
        "np.array(y_pred_log)"
      ],
      "execution_count": 62,
      "outputs": [
        {
          "output_type": "execute_result",
          "data": {
            "text/plain": [
              "array([3., 3., 8., 3., 8., 8., 6., 3., 3., 8., 8., 8., 8., 3., 6., 6., 8.,\n",
              "       8., 3., 8., 3., 6., 3., 3., 8., 6., 8., 6., 6., 8., 8., 3., 8., 6.,\n",
              "       8., 8., 3., 6., 3., 3., 8., 8., 8., 6., 3., 6., 8., 6., 6., 8., 6.,\n",
              "       8., 6., 8., 6., 8., 6., 6., 8., 8., 3., 3., 8., 3., 6., 6., 6., 8.,\n",
              "       3., 8., 3., 3., 6., 8., 3., 6., 6., 3., 3., 8., 8., 3., 3., 3., 6.,\n",
              "       3., 8., 3., 6., 3., 6., 6., 3., 3., 8., 8., 6., 3., 3., 6., 8., 8.,\n",
              "       8., 6., 8., 6., 3., 3., 6., 8., 8., 3., 8., 3., 8., 6., 3., 8., 6.,\n",
              "       6., 3., 6., 3., 6., 3., 6., 8., 3., 8., 6., 6., 6., 3., 3., 6., 3.,\n",
              "       3., 3., 8., 6., 3., 6., 6., 6., 3., 3., 6., 3., 8., 3., 3., 8., 3.,\n",
              "       6., 6., 6., 8., 3., 6., 6., 8., 6., 3., 8., 8., 6., 8., 3., 3., 3.,\n",
              "       3., 6., 8., 3., 6., 3., 3., 6., 8., 6., 3., 3., 6., 3., 6., 3., 6.,\n",
              "       6., 3., 3., 3., 8., 8., 3., 8., 3., 8., 3., 3., 8., 3., 3., 6., 3.,\n",
              "       6., 3., 3., 3., 6., 6., 8., 6., 3., 8., 8., 3., 8., 6., 6., 8., 6.,\n",
              "       3., 6., 6., 6., 3., 8., 8., 3., 3., 6., 8., 8., 6., 6., 6., 8., 8.,\n",
              "       3., 8., 6., 3., 6., 8., 3., 8., 8., 6., 8., 3., 8., 6., 3., 6., 6.,\n",
              "       8., 3., 8., 6., 8., 3., 6., 6., 3., 8., 6., 8., 8., 3., 8., 8., 8.,\n",
              "       8., 8., 8., 6., 8., 3., 8., 8., 8., 8., 8., 6., 3., 6., 6., 6., 8.,\n",
              "       3., 8., 6., 3., 8., 8., 3., 6., 6., 8., 3.])"
            ]
          },
          "metadata": {},
          "execution_count": 62
        }
      ]
    },
    {
      "cell_type": "markdown",
      "metadata": {
        "id": "3uQG6JsOQxH5"
      },
      "source": [
        "### Probabilistic Multinomial Logistic Regression:"
      ]
    },
    {
      "cell_type": "markdown",
      "metadata": {
        "id": "irlmUNw7Q5YL"
      },
      "source": [
        "The Multinomial Logistic Regression has some parameters:\n",
        "\n",
        "- $\\alpha$, which is the intercept term:\n",
        "\n",
        "- $\\beta$, which is a vector of coefficients which give a weighting to the importance of each input feature:\n"
      ]
    },
    {
      "cell_type": "code",
      "metadata": {
        "id": "3fnYiD1CjlIq"
      },
      "source": [
        "import sklearn.preprocessing\n",
        "## We use LabelBinarizer to transfor classes into counts\n",
        "# neg_label=0, pos_label=1 \n",
        "y_2_bin = sklearn.preprocessing.LabelBinarizer().fit_transform(y_train.reshape(-1,1))\n",
        "nf = X_train.shape[1]\n",
        "# number of classes\n",
        "nc = len(classes)\n",
        "# floatX = float32\n",
        "floatX = tt.config.floatX\n",
        "\n",
        "init_b = np.random.randn(nf, nc-1).astype(floatX)\n",
        "init_a = np.random.randn(nc-1).astype(floatX)\n",
        "\n",
        "\n",
        "with pm.Model() as multi_logistic:\n",
        "    # Prior\n",
        "    β = pm.Normal('beta', 0, sigma=100, shape=(nf, nc-1), testval=init_b)\n",
        "    α = pm.Normal('alpha', 0, sigma=100, shape=(nc-1,), testval=init_a)\n",
        "    \n",
        "    # we need to consider nc-1 features because the model is not identifiable\n",
        "    # the softmax turns a vector into a probability that sums up to one\n",
        "    # therefore we add zeros to go back to dimension nc\n",
        "    # so that softmax returns a vector of dimension nc\n",
        "    β1  = tt.tensor.concatenate([np.zeros((nf,1)),β ],axis=1)\n",
        "    α1  = tt.tensor.concatenate([[0],α ],)\n",
        "    \n",
        "    # Likelihood\n",
        "    mu = pm.math.matrix_dot(X_train,β1) + α1\n",
        "    # It doesn't work if the problem is binary\n",
        "    p = tt.tensor.nnet.nnet.softmax(mu)\n",
        "    observed = pm.Multinomial('likelihood', p=p, n=1, observed=y_2_bin)\n"
      ],
      "execution_count": 63,
      "outputs": []
    },
    {
      "cell_type": "code",
      "metadata": {
        "id": "aj6Uzc05Rhtr",
        "colab": {
          "base_uri": "https://localhost:8080/"
        },
        "outputId": "9360b16c-2f11-44f4-999e-6823dcc4b62b"
      },
      "source": [
        "y_2_bin"
      ],
      "execution_count": 64,
      "outputs": [
        {
          "output_type": "execute_result",
          "data": {
            "text/plain": [
              "array([[0, 0, 1],\n",
              "       [1, 0, 0],\n",
              "       [1, 0, 0],\n",
              "       ...,\n",
              "       [1, 0, 0],\n",
              "       [1, 0, 0],\n",
              "       [0, 1, 0]])"
            ]
          },
          "metadata": {},
          "execution_count": 64
        }
      ]
    },
    {
      "cell_type": "code",
      "metadata": {
        "id": "2MFH4gwlRhrB",
        "colab": {
          "base_uri": "https://localhost:8080/",
          "height": 55
        },
        "outputId": "3c9aa4e5-c873-44dd-b771-6adae74a1ffc"
      },
      "source": [
        "with multi_logistic:\n",
        "  approx = pm.fit(3000, method = 'advi')"
      ],
      "execution_count": 65,
      "outputs": [
        {
          "output_type": "display_data",
          "data": {
            "text/html": [
              "\n",
              "    <div>\n",
              "        <style>\n",
              "            /* Turns off some styling */\n",
              "            progress {\n",
              "                /* gets rid of default border in Firefox and Opera. */\n",
              "                border: none;\n",
              "                /* Needs to be in here for Safari polyfill so background images work as expected. */\n",
              "                background-size: auto;\n",
              "            }\n",
              "            .progress-bar-interrupted, .progress-bar-interrupted::-webkit-progress-bar {\n",
              "                background: #F44336;\n",
              "            }\n",
              "        </style>\n",
              "      <progress value='3000' class='' max='3000' style='width:300px; height:20px; vertical-align: middle;'></progress>\n",
              "      100.00% [3000/3000 00:15<00:00 Average Loss = 8,606.9]\n",
              "    </div>\n",
              "    "
            ],
            "text/plain": [
              "<IPython.core.display.HTML object>"
            ]
          },
          "metadata": {}
        },
        {
          "output_type": "stream",
          "name": "stderr",
          "text": [
            "Finished [100%]: Average Loss = 8,603\n"
          ]
        }
      ]
    },
    {
      "cell_type": "code",
      "metadata": {
        "id": "WNmJvYc4Rho7",
        "colab": {
          "base_uri": "https://localhost:8080/",
          "height": 265
        },
        "outputId": "5a82eb4f-9bc4-44b2-c1a3-d17be06c8cb1"
      },
      "source": [
        "plt.plot(approx.hist)\n",
        "plt.show()"
      ],
      "execution_count": 66,
      "outputs": [
        {
          "output_type": "display_data",
          "data": {
            "image/png": "[encoded data removed]",
            "text/plain": [
              "<Figure size 432x288 with 1 Axes>"
            ]
          },
          "metadata": {
            "needs_background": "light"
          }
        }
      ]
    },
    {
      "cell_type": "code",
      "metadata": {
        "id": "sXcGhgbckucO"
      },
      "source": [
        "dd = 300\n",
        "posterior = approx.sample(draws = dd)"
      ],
      "execution_count": 67,
      "outputs": []
    },
    {
      "cell_type": "code",
      "metadata": {
        "id": "BFAKARTikuUf",
        "colab": {
          "base_uri": "https://localhost:8080/",
          "height": 304
        },
        "outputId": "c6cb1bd5-88d0-43da-9c4e-a71a3a48ea98"
      },
      "source": [
        "## Now lets test the model, by validating it against an image in the test set\n",
        "\n",
        "from scipy.special import softmax\n",
        "\n",
        "# select an image in the test set\n",
        "#i = 10 \n",
        "i = random.randint(0,dd)\n",
        "\n",
        "# select a sample from the posterior\n",
        "#s = 100\n",
        "s = random.randint(0,dd)\n",
        "\n",
        "beta = np.hstack([np.zeros((nf,1)), posterior['beta'][s,:] ])\n",
        "alpha = np.hstack([[0] , posterior['alpha'][s,:] ])\n",
        "image = X_val[i,:].reshape(28,28)\n",
        "plt.figure(figsize=(3,3))\n",
        "plt.imshow(image, cmap = 'gray')\n",
        "np.set_printoptions(suppress= True)\n",
        "\n",
        "print(\"Test image #\" + str(i) )\n",
        "print(\"Posterior sample #\" + str(s) )\n",
        "print(\"True Class\", y_val[i] )\n",
        "print(\"Classes: \" + str(classes) )\n",
        "print(\"Estimated prob = \" , softmax((np.array([X_val[i,:].dot(beta) + alpha])))[0,:] )"
      ],
      "execution_count": 68,
      "outputs": [
        {
          "output_type": "stream",
          "name": "stdout",
          "text": [
            "Test image #243\n",
            "Posterior sample #197\n",
            "True Class 8.0\n",
            "Classes: [3, 6, 8]\n",
            "Estimated prob =  [0.00000002 0.         0.99999998]\n"
          ]
        },
        {
          "output_type": "display_data",
          "data": {
            "image/png": "[encoded data removed]",
            "text/plain": [
              "<Figure size 216x216 with 1 Axes>"
            ]
          },
          "metadata": {
            "needs_background": "light"
          }
        }
      ]
    },
    {
      "cell_type": "code",
      "metadata": {
        "id": "XXh5GXJsRhmr"
      },
      "source": [
        "# Bayesian Prediction\n",
        "# calculate the class that has the highest posterior probability\n",
        "\n",
        "y_pred_Bayes = []\n",
        "\n",
        "for i in range(X_val.shape[0]):\n",
        "  val = np.zeros((1,len(classes)))\n",
        "\n",
        "  for s in range(posterior['beta'].shape[0]):\n",
        "    beta = np.hstack([np.zeros((nf,1)), posterior['beta'][s,:]])\n",
        "    alpha = np.hstack([[0], posterior['alpha'][s,:] ])\n",
        "    val = val + softmax((np.array([X_val[i,:].dot(beta) + alpha])))\n",
        "  \n",
        "  mean_probability = val/posterior['beta'].shape[0]\n",
        "  y_pred_Bayes.append( np.argmax(mean_probability))"
      ],
      "execution_count": 69,
      "outputs": []
    },
    {
      "cell_type": "code",
      "metadata": {
        "colab": {
          "base_uri": "https://localhost:8080/"
        },
        "id": "GRQaZmikTpOx",
        "outputId": "43041c50-a35e-496d-87e4-70895be67b57"
      },
      "source": [
        "print(y_pred_Bayes)"
      ],
      "execution_count": 70,
      "outputs": [
        {
          "output_type": "stream",
          "name": "stdout",
          "text": [
            "[0, 0, 2, 0, 2, 2, 1, 0, 0, 2, 0, 2, 2, 0, 1, 1, 2, 2, 0, 2, 0, 1, 0, 0, 2, 1, 2, 1, 1, 2, 2, 0, 2, 1, 2, 2, 0, 1, 0, 0, 2, 2, 0, 1, 0, 1, 2, 1, 1, 2, 1, 2, 1, 2, 1, 2, 1, 1, 0, 2, 0, 0, 2, 0, 1, 1, 1, 2, 0, 0, 0, 0, 1, 2, 0, 1, 1, 0, 0, 2, 2, 0, 0, 0, 1, 2, 2, 0, 1, 0, 1, 1, 2, 0, 2, 2, 1, 2, 0, 1, 0, 0, 0, 1, 0, 1, 0, 0, 1, 2, 2, 0, 2, 0, 2, 1, 0, 2, 1, 1, 0, 1, 0, 1, 0, 1, 0, 0, 2, 1, 1, 1, 0, 2, 1, 0, 2, 0, 2, 2, 0, 1, 1, 1, 0, 0, 1, 2, 2, 0, 0, 2, 2, 1, 1, 1, 2, 0, 1, 1, 0, 1, 0, 2, 2, 1, 2, 0, 0, 0, 0, 1, 2, 0, 1, 0, 0, 1, 2, 1, 0, 2, 1, 0, 1, 0, 1, 1, 0, 0, 2, 2, 2, 0, 2, 0, 2, 2, 0, 2, 2, 0, 1, 0, 1, 0, 0, 0, 1, 1, 0, 1, 0, 2, 2, 2, 2, 1, 1, 2, 1, 0, 1, 2, 1, 0, 1, 0, 0, 0, 1, 0, 2, 1, 1, 1, 2, 2, 0, 2, 1, 0, 1, 2, 0, 2, 2, 1, 2, 0, 2, 1, 0, 1, 1, 2, 0, 2, 1, 2, 0, 1, 1, 2, 2, 1, 2, 2, 0, 0, 2, 2, 2, 2, 0, 1, 0, 0, 0, 2, 2, 2, 2, 1, 0, 1, 1, 1, 2, 0, 2, 1, 0, 1, 2, 0, 1, 1, 2, 0]\n"
          ]
        }
      ]
    },
    {
      "cell_type": "code",
      "metadata": {
        "colab": {
          "base_uri": "https://localhost:8080/"
        },
        "id": "J8o4t_YRTvnL",
        "outputId": "955ad6e0-4472-4845-90d5-e393e1956609"
      },
      "source": [
        "print(\"Accuracy = \", accuracy_score(np.array(classes)[y_pred_Bayes], y_val))"
      ],
      "execution_count": 71,
      "outputs": [
        {
          "output_type": "stream",
          "name": "stdout",
          "text": [
            "Accuracy =  0.88\n"
          ]
        }
      ]
    },
    {
      "cell_type": "markdown",
      "metadata": {
        "id": "Xbrgm60BY2i_"
      },
      "source": [
        "## Detecting difficult and easy instances to predict"
      ]
    },
    {
      "cell_type": "code",
      "metadata": {
        "colab": {
          "base_uri": "https://localhost:8080/"
        },
        "id": "yH39k9BsZKWE",
        "outputId": "fa3c6c75-ec7c-4c23-dd61-5ba4a092257d"
      },
      "source": [
        "len(X_val)\n",
        "#posterior['alpha'].shape[0]\n",
        "#posterior['alpha']"
      ],
      "execution_count": 84,
      "outputs": [
        {
          "output_type": "execute_result",
          "data": {
            "text/plain": [
              "300"
            ]
          },
          "metadata": {},
          "execution_count": 84
        }
      ]
    },
    {
      "cell_type": "code",
      "metadata": {
        "id": "TtkgBRMJY9FE"
      },
      "source": [
        "y_predB = []\n",
        "\n",
        "for i in range(X_val.shape[0]):\n",
        "  val = []\n",
        "   \n",
        "  for s in range(posterior['beta'].shape[0]):\n",
        "    beta = np.hstack([np.zeros((nf,1)), posterior['beta'][s,:] ])\n",
        "    alpha = np.hstack([ [0], posterior['alpha'][s,:] ])\n",
        "    val.append(softmax((np.array([X_val[i,:].dot(beta) + alpha ])))[0,:])\n",
        "\n",
        "  # mean probability\n",
        "  valmean = np.mean(val, axis = 0)\n",
        "  # class with maximum mean probabilty\n",
        "  classmax = np.argmax(valmean)\n",
        "\n",
        "  #ranks\n",
        "  ranks = np.array(val.copy())\n",
        "  ranks = ranks *0 #init\n",
        "  column_max  = np.argmax(np.array(val), axis = 1)\n",
        "  ranks[np.arange(0, len(column_max)), coloumn_max] = 1\n",
        "\n",
        "  y_predB.append( [classmax , valmean[classmax], np.std(ranks, axis = 0)[classmax]])\n",
        "\n",
        "y_predB = np.array(y_predB)  \n",
        "\n"
      ],
      "execution_count": 92,
      "outputs": []
    },
    {
      "cell_type": "code",
      "metadata": {
        "colab": {
          "base_uri": "https://localhost:8080/"
        },
        "id": "D4lzYnqV30-3",
        "outputId": "707ce76b-de71-4283-8f42-12c9d85155b8"
      },
      "source": [
        "# The prediction array\n",
        "mm = 10\n",
        "y_predB[0:mm,:]"
      ],
      "execution_count": 93,
      "outputs": [
        {
          "output_type": "execute_result",
          "data": {
            "text/plain": [
              "array([[0.        , 0.67777662, 0.46774875],\n",
              "       [0.        , 0.89711128, 0.46774875],\n",
              "       [2.        , 0.96538539, 0.32496154],\n",
              "       [0.        , 0.98735862, 0.46774875],\n",
              "       [2.        , 0.83280472, 0.32496154],\n",
              "       [2.        , 0.81782089, 0.32496154],\n",
              "       [1.        , 0.90396266, 0.40247843],\n",
              "       [0.        , 0.84676636, 0.46774875],\n",
              "       [0.        , 0.8169003 , 0.46774875],\n",
              "       [2.        , 0.83454549, 0.32496154]])"
            ]
          },
          "metadata": {},
          "execution_count": 93
        }
      ]
    },
    {
      "cell_type": "code",
      "metadata": {
        "colab": {
          "base_uri": "https://localhost:8080/"
        },
        "id": "9Kwa-m-l3023",
        "outputId": "6c1e0ee9-9c71-4c24-e6ec-cdf90f0c1f35"
      },
      "source": [
        "# sorting the prediction array in descending order\n",
        "difficult = np.argsort(-y_predB[:,2])\n",
        "y_predB[difficult[0:mm],:]"
      ],
      "execution_count": 95,
      "outputs": [
        {
          "output_type": "execute_result",
          "data": {
            "text/plain": [
              "array([[0.        , 0.67777662, 0.46774875],\n",
              "       [0.        , 0.72310189, 0.46774875],\n",
              "       [0.        , 0.72197904, 0.46774875],\n",
              "       [0.        , 0.76335342, 0.46774875],\n",
              "       [0.        , 0.99463636, 0.46774875],\n",
              "       [0.        , 0.97793255, 0.46774875],\n",
              "       [0.        , 0.98310967, 0.46774875],\n",
              "       [0.        , 0.90799258, 0.46774875],\n",
              "       [0.        , 0.5896935 , 0.46774875],\n",
              "       [0.        , 0.64531841, 0.46774875]])"
            ]
          },
          "metadata": {},
          "execution_count": 95
        }
      ]
    },
    {
      "cell_type": "code",
      "metadata": {
        "colab": {
          "base_uri": "https://localhost:8080/"
        },
        "id": "ZZ1h4I6H30uU",
        "outputId": "32623e0c-b860-44d4-d786-d3ad9954682e"
      },
      "source": [
        "# The Probability of general-recipe logistic regression in wrong instances\n",
        "prob_classmax[y_pred_log != y_val]"
      ],
      "execution_count": 96,
      "outputs": [
        {
          "output_type": "execute_result",
          "data": {
            "text/plain": [
              "array([0.95537828, 0.99989538, 0.99986447, 0.95639031, 0.9998095 ,\n",
              "       0.99975773, 0.99997023, 0.99794497, 0.82303785, 0.96396183,\n",
              "       0.99287251, 0.97392653])"
            ]
          },
          "metadata": {},
          "execution_count": 96
        }
      ]
    },
    {
      "cell_type": "code",
      "metadata": {
        "colab": {
          "base_uri": "https://localhost:8080/"
        },
        "id": "UdkY8cmVY8uZ",
        "outputId": "5ce925a1-255e-4b22-e0a4-8fddaa365589"
      },
      "source": [
        "y_predB[y_pred_log != y_val,:]"
      ],
      "execution_count": 98,
      "outputs": [
        {
          "output_type": "execute_result",
          "data": {
            "text/plain": [
              "array([[0.        , 0.9838679 , 0.46774875],\n",
              "       [2.        , 0.8405685 , 0.32496154],\n",
              "       [2.        , 0.43311246, 0.32496154],\n",
              "       [0.        , 0.96705297, 0.46774875],\n",
              "       [2.        , 0.9082194 , 0.32496154],\n",
              "       [0.        , 0.92563627, 0.46774875],\n",
              "       [1.        , 0.67060227, 0.40247843],\n",
              "       [2.        , 0.92678172, 0.32496154],\n",
              "       [2.        , 0.76708107, 0.32496154],\n",
              "       [0.        , 0.55763019, 0.46774875],\n",
              "       [0.        , 0.84149637, 0.46774875],\n",
              "       [1.        , 0.7085904 , 0.40247843]])"
            ]
          },
          "metadata": {},
          "execution_count": 98
        }
      ]
    },
    {
      "cell_type": "code",
      "metadata": {
        "colab": {
          "base_uri": "https://localhost:8080/"
        },
        "id": "SYoJpOEy4-Ds",
        "outputId": "fada5555-88fc-4fc3-a5a2-941a4e785c7f"
      },
      "source": [
        "## Difficult & easy instances\n",
        "\n",
        "easy = np.argsort(y_predB[:,2])\n",
        "print(\"The accuracy in the easy instances =\", accuracy_score(y_pred_log[easy[0:100]], y_val[easy[0:100]]))\n",
        "\n",
        "difficult = np.argsort(-y_predB[:,2])\n",
        "print(\"The accuracy in the difficult instances =\", accuracy_score(y_pred_log[difficult[0:100]], y_val[difficult[0:100]]))\n"
      ],
      "execution_count": 100,
      "outputs": [
        {
          "output_type": "stream",
          "name": "stdout",
          "text": [
            "The accuracy in the easy instances = 0.95\n",
            "The accuracy in the difficult instances = 0.95\n"
          ]
        }
      ]
    },
    {
      "cell_type": "code",
      "metadata": {
        "colab": {
          "base_uri": "https://localhost:8080/",
          "height": 357
        },
        "id": "uwLQPGtw5xy8",
        "outputId": "106e9b4e-5864-48ea-d688-26d594778bfb"
      },
      "source": [
        "# Lets show 10 random examples of easy images\n",
        "fig, axs = plt.subplots(2,5, figsize=(15,6))\n",
        "fig.subplots_adjust(hspace = 0.5, wspace= 0.005)\n",
        "axs = axs.ravel()\n",
        "\n",
        "for i in range(10):\n",
        "  index = easy[i]\n",
        "  image = X_val[index,:].reshape(28,28)\n",
        "  axs[i].axis('off')\n",
        "  axs[i].imshow(image, cmap =\"gray\")"
      ],
      "execution_count": 106,
      "outputs": [
        {
          "output_type": "display_data",
          "data": {
            "image/png": "[encoded data removed]",
            "text/plain": [
              "<Figure size 1080x432 with 10 Axes>"
            ]
          },
          "metadata": {
            "needs_background": "light"
          }
        }
      ]
    },
    {
      "cell_type": "code",
      "metadata": {
        "colab": {
          "base_uri": "https://localhost:8080/",
          "height": 357
        },
        "id": "3GJOJ5gR5xqx",
        "outputId": "113cbfe7-6769-4921-ffcd-895e88cc4b4d"
      },
      "source": [
        "# Now lets show 10 random examples of difficult images\n",
        "fig, axs = plt.subplots(2,5, figsize=(15,6))\n",
        "fig.subplots_adjust(hspace = 0.5, wspace= 0.005)\n",
        "axs = axs.ravel()\n",
        "\n",
        "for i in range(10):\n",
        "  index = difficult[i]\n",
        "  image = X_val[index,:].reshape(28,28)\n",
        "  axs[i].axis('off')\n",
        "  axs[i].imshow(image, cmap =\"Greys_r\")"
      ],
      "execution_count": 109,
      "outputs": [
        {
          "output_type": "display_data",
          "data": {
            "image/png": "[encoded data removed]",
            "text/plain": [
              "<Figure size 1080x432 with 10 Axes>"
            ]
          },
          "metadata": {
            "needs_background": "light"
          }
        }
      ]
    },
    {
      "cell_type": "markdown",
      "metadata": {
        "id": "NcshsLOGRPrk"
      },
      "source": [
        "## Summary"
      ]
    },
    {
      "cell_type": "markdown",
      "metadata": {
        "id": "XTc4pYKGRR60"
      },
      "source": [
        "Populate this section with all of your findings and comments fron the discussion with your peers."
      ]
    }
  ]
}